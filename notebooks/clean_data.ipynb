{
 "cells": [
  {
   "cell_type": "code",
   "execution_count": 21,
   "metadata": {},
   "outputs": [],
   "source": [
    "import pandas as pd"
   ]
  },
  {
   "cell_type": "code",
   "execution_count": 22,
   "metadata": {},
   "outputs": [],
   "source": [
    "all_vessels_df = pd.read_csv('../data/all_vessel_calls.csv')\n",
    "cols = ['vessel.vesselImo','vessel.vesselName','vessel.vesselType']\n",
    "singapore_vessels_df = pd.read_csv('../data/ports/singapore_calls.csv', usecols=cols)\n",
    "long_beach_vessels_df = pd.read_csv('../data/ports/long_beach_calls.csv', usecols=cols)\n",
    "los_angeles_vessels_df = pd.read_csv('../data/ports/los_angeles_calls.csv', usecols=cols)"
   ]
  },
  {
   "cell_type": "code",
   "execution_count": 23,
   "metadata": {},
   "outputs": [],
   "source": [
    "# clean the port dfs\n",
    "singapore_vessels_df = singapore_vessels_df.rename(columns={'vessel.vesselImo':'IMO'})\n",
    "long_beach_vessels_df = long_beach_vessels_df.rename(columns={'vessel.vesselImo':'IMO'})\n",
    "los_angeles_vessels_df = los_angeles_vessels_df.rename(columns={'vessel.vesselImo':'IMO'})\n",
    "\n",
    "singapore_vessels_df = singapore_vessels_df.drop_duplicates(subset='IMO')\n",
    "long_beach_vessels_df = long_beach_vessels_df.drop_duplicates(subset='IMO')\n",
    "los_angeles_vessels_df = los_angeles_vessels_df.drop_duplicates(subset='IMO')\n",
    "\n",
    "# drop null values\n",
    "singapore_vessels_df = singapore_vessels_df.dropna()\n",
    "long_beach_vessels_df = long_beach_vessels_df.dropna()\n",
    "los_angeles_vessels_df = los_angeles_vessels_df.dropna()"
   ]
  },
  {
   "cell_type": "code",
   "execution_count": 24,
   "metadata": {},
   "outputs": [],
   "source": [
    "# merge the port dfs\n",
    "ports_imo_df = pd.concat([singapore_vessels_df, long_beach_vessels_df, los_angeles_vessels_df])\n",
    "ports_imo_df = ports_imo_df.drop_duplicates(subset='IMO')"
   ]
  },
  {
   "cell_type": "code",
   "execution_count": 25,
   "metadata": {},
   "outputs": [],
   "source": [
    "# merge all vessels with the port vessels\n",
    "all_vessels_df = all_vessels_df.merge(ports_imo_df, on='IMO', how='left')"
   ]
  },
  {
   "cell_type": "code",
   "execution_count": 26,
   "metadata": {},
   "outputs": [],
   "source": [
    "# drop null values\n",
    "all_vessels_df = all_vessels_df.dropna()"
   ]
  },
  {
   "cell_type": "code",
   "execution_count": 27,
   "metadata": {},
   "outputs": [],
   "source": [
    "# save the merged df\n",
    "all_vessels_df.to_csv('../data/cleaned/cleaned_vessel_calls.csv', index=False)"
   ]
  }
 ],
 "metadata": {
  "kernelspec": {
   "display_name": "ais_env",
   "language": "python",
   "name": "python3"
  },
  "language_info": {
   "codemirror_mode": {
    "name": "ipython",
    "version": 3
   },
   "file_extension": ".py",
   "mimetype": "text/x-python",
   "name": "python",
   "nbconvert_exporter": "python",
   "pygments_lexer": "ipython3",
   "version": "3.12.2"
  }
 },
 "nbformat": 4,
 "nbformat_minor": 2
}
