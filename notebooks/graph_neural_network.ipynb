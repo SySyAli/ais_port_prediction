{
  "cells": [
    {
      "cell_type": "code",
      "execution_count": 675,
      "metadata": {
        "id": "XHG0t_pUz9qG"
      },
      "outputs": [],
      "source": [
        "import numpy as np\n",
        "import pandas as pd\n",
        "from sklearn.model_selection import train_test_split\n",
        "from sklearn.metrics import accuracy_score,confusion_matrix\n",
        "from sklearn.datasets import load_digits\n",
        "from sklearn.model_selection import validation_curve\n",
        "import time\n",
        "import os\n",
        "from sklearn.preprocessing import LabelEncoder\n",
        "from sklearn.metrics import accuracy_score,confusion_matrix\n",
        "import seaborn as sns\n",
        "import matplotlib.pyplot as plt\n",
        "from sklearn.model_selection import learning_curve"
      ]
    },
    {
      "cell_type": "code",
      "execution_count": 676,
      "metadata": {
        "id": "lSX0u9sc0PZt"
      },
      "outputs": [],
      "source": [
        "pre_df = pd.read_csv('../data/cleaned/cleaned_vessel_calls.csv')"
      ]
    },
    {
      "cell_type": "code",
      "execution_count": null,
      "metadata": {
        "colab": {
          "base_uri": "https://localhost:8080/",
          "height": 313
        },
        "id": "dkFEEjIf0YjP",
        "outputId": "e3bb23b9-a9d0-4749-a1d4-b4e7ac7f39a1"
      },
      "outputs": [],
      "source": [
        "pre_df.head()"
      ]
    },
    {
      "cell_type": "code",
      "execution_count": 678,
      "metadata": {
        "id": "Nkh2Nf5F0iM-"
      },
      "outputs": [],
      "source": [
        "# preprocess data\n",
        "# sort by imo number\n",
        "pre_df.sort_values(by=[\"IMO\", \"arrivalDate\"], inplace=True)\n",
        "pre_df['next_place'] = pre_df.groupby('IMO')['place.unlocode'].shift(-1)\n",
        "pre_df['is_last_imo'] = pre_df['IMO'] != pre_df['IMO'].shift(-1)\n",
        "pre_df = pre_df[~pre_df[\"is_last_imo\"]]\n",
        "pre_df = pre_df[pre_df[\"Event_Type\"] != \"ARRIVAL\"]"
      ]
    },
    {
      "cell_type": "code",
      "execution_count": null,
      "metadata": {
        "colab": {
          "base_uri": "https://localhost:8080/",
          "height": 496
        },
        "id": "xA36K1LQ0s8W",
        "outputId": "318df207-bee2-412f-eb94-76bccaf1cc86"
      },
      "outputs": [],
      "source": [
        "pre_df = pre_df.drop(columns=[\"is_last_imo\", \"Event_Type\", \"Timestamp\", \"vessel.vesselName\", \"IMO\", \"arrivalDate\", \"sailingDate\"])\n",
        "pre_df"
      ]
    },
    {
      "cell_type": "code",
      "execution_count": 680,
      "metadata": {
        "colab": {
          "base_uri": "https://localhost:8080/",
          "height": 424
        },
        "id": "zDffnvWA-QH6",
        "outputId": "c2b241ec-f1fe-4160-cd79-198350acd57d"
      },
      "outputs": [
        {
          "data": {
            "text/html": [
              "<div>\n",
              "<style scoped>\n",
              "    .dataframe tbody tr th:only-of-type {\n",
              "        vertical-align: middle;\n",
              "    }\n",
              "\n",
              "    .dataframe tbody tr th {\n",
              "        vertical-align: top;\n",
              "    }\n",
              "\n",
              "    .dataframe thead th {\n",
              "        text-align: right;\n",
              "    }\n",
              "</style>\n",
              "<table border=\"1\" class=\"dataframe\">\n",
              "  <thead>\n",
              "    <tr style=\"text-align: right;\">\n",
              "      <th></th>\n",
              "      <th>place.unlocode</th>\n",
              "      <th>next_place</th>\n",
              "    </tr>\n",
              "  </thead>\n",
              "  <tbody>\n",
              "    <tr>\n",
              "      <th>314761</th>\n",
              "      <td>USLAX</td>\n",
              "      <td>CNJGY</td>\n",
              "    </tr>\n",
              "    <tr>\n",
              "      <th>314763</th>\n",
              "      <td>CNJGY</td>\n",
              "      <td>CNTXG</td>\n",
              "    </tr>\n",
              "    <tr>\n",
              "      <th>314765</th>\n",
              "      <td>CNTXG</td>\n",
              "      <td>CNQAW</td>\n",
              "    </tr>\n",
              "    <tr>\n",
              "      <th>314767</th>\n",
              "      <td>CNQAW</td>\n",
              "      <td>CNMSN</td>\n",
              "    </tr>\n",
              "    <tr>\n",
              "      <th>314769</th>\n",
              "      <td>CNMSN</td>\n",
              "      <td>CNNSA</td>\n",
              "    </tr>\n",
              "    <tr>\n",
              "      <th>...</th>\n",
              "      <td>...</td>\n",
              "      <td>...</td>\n",
              "    </tr>\n",
              "    <tr>\n",
              "      <th>154945</th>\n",
              "      <td>USPEF</td>\n",
              "      <td>USTXT</td>\n",
              "    </tr>\n",
              "    <tr>\n",
              "      <th>154947</th>\n",
              "      <td>USTXT</td>\n",
              "      <td>USPEF</td>\n",
              "    </tr>\n",
              "    <tr>\n",
              "      <th>154949</th>\n",
              "      <td>USPEF</td>\n",
              "      <td>USHOU</td>\n",
              "    </tr>\n",
              "    <tr>\n",
              "      <th>154951</th>\n",
              "      <td>USHOU</td>\n",
              "      <td>USPEF</td>\n",
              "    </tr>\n",
              "    <tr>\n",
              "      <th>154953</th>\n",
              "      <td>USPEF</td>\n",
              "      <td>USJAX</td>\n",
              "    </tr>\n",
              "  </tbody>\n",
              "</table>\n",
              "<p>1000 rows × 2 columns</p>\n",
              "</div>"
            ],
            "text/plain": [
              "       place.unlocode next_place\n",
              "314761          USLAX      CNJGY\n",
              "314763          CNJGY      CNTXG\n",
              "314765          CNTXG      CNQAW\n",
              "314767          CNQAW      CNMSN\n",
              "314769          CNMSN      CNNSA\n",
              "...               ...        ...\n",
              "154945          USPEF      USTXT\n",
              "154947          USTXT      USPEF\n",
              "154949          USPEF      USHOU\n",
              "154951          USHOU      USPEF\n",
              "154953          USPEF      USJAX\n",
              "\n",
              "[1000 rows x 2 columns]"
            ]
          },
          "execution_count": 680,
          "metadata": {},
          "output_type": "execute_result"
        }
      ],
      "source": [
        "pre_df[['place.unlocode', 'next_place']].head(1000)"
      ]
    },
    {
      "cell_type": "code",
      "execution_count": 681,
      "metadata": {},
      "outputs": [
        {
          "name": "stdout",
          "output_type": "stream",
          "text": [
            "place.placeName      0\n",
            "place.unlocode       0\n",
            "place.placeType      0\n",
            "place.countryName    0\n",
            "vessel.vesselType    0\n",
            "next_place           0\n",
            "dtype: int64\n"
          ]
        }
      ],
      "source": [
        "print(pre_df.isna().sum())\n",
        "pre_df = pre_df.dropna(subset=['place.unlocode', 'next_place'])"
      ]
    },
    {
      "cell_type": "code",
      "execution_count": 682,
      "metadata": {},
      "outputs": [],
      "source": [
        "# Ensure 'unlocode' is used to create unique indices\n",
        "port_to_index = {port: idx for idx, port in enumerate(pre_df['place.unlocode'].unique())}\n",
        "pre_df['cur_port_index'] = pre_df['place.unlocode'].map(port_to_index)\n",
        "pre_df['next_port_index'] = pre_df['next_place'].map(port_to_index)"
      ]
    },
    {
      "cell_type": "code",
      "execution_count": 683,
      "metadata": {},
      "outputs": [
        {
          "name": "stdout",
          "output_type": "stream",
          "text": [
            "{np.int64(1347), np.int64(1763), np.int64(1768), np.int64(1738), np.int64(1758), np.int64(1646), np.int64(1691), np.int64(1630)}\n",
            "1764\n",
            "1765\n"
          ]
        }
      ],
      "source": [
        "all_ports = set(pre_df['cur_port_index'].unique())\n",
        "next_ports = set(pre_df['next_port_index'].unique())\n",
        "missing_next_ports = all_ports - next_ports\n",
        "print(missing_next_ports)\n",
        "# Filter out entries where 'cur_port_index' is in the set of missing next ports\n",
        "pre_df = pre_df[~pre_df['cur_port_index'].isin(missing_next_ports)]\n",
        "\n",
        "# Check the new lengths after filtering\n",
        "print(len(pre_df['cur_port_index'].unique()))\n",
        "print(len(pre_df['next_port_index'].unique()))"
      ]
    },
    {
      "cell_type": "code",
      "execution_count": 684,
      "metadata": {},
      "outputs": [],
      "source": [
        "# reupdate port_to_index\n",
        "port_to_index = {port: idx for idx, port in enumerate(pre_df['place.unlocode'].unique())}\n",
        "pre_df['cur_port_index'] = pre_df['place.unlocode'].map(port_to_index)\n",
        "pre_df['next_port_index'] = pre_df['next_place'].map(port_to_index)"
      ]
    },
    {
      "cell_type": "code",
      "execution_count": 685,
      "metadata": {},
      "outputs": [
        {
          "data": {
            "text/plain": [
              "place.placeName      0\n",
              "place.unlocode       0\n",
              "place.placeType      0\n",
              "place.countryName    0\n",
              "vessel.vesselType    0\n",
              "next_place           0\n",
              "cur_port_index       0\n",
              "next_port_index      0\n",
              "dtype: int64"
            ]
          },
          "execution_count": 685,
          "metadata": {},
          "output_type": "execute_result"
        }
      ],
      "source": [
        "pre_df = pre_df.dropna(subset=['next_port_index'])\n",
        "pre_df.isna().sum()"
      ]
    },
    {
      "cell_type": "code",
      "execution_count": 686,
      "metadata": {},
      "outputs": [],
      "source": [
        "# Check for any NaN which indicates missing mappings\n",
        "assert pre_df['cur_port_index'].isna().sum() == 0, \"Missing index mappings for current ports\"\n",
        "assert pre_df['next_port_index'].isna().sum() == 0, \"Missing index mappings for next ports\""
      ]
    },
    {
      "cell_type": "code",
      "execution_count": 687,
      "metadata": {
        "id": "DUGO3lr--foT"
      },
      "outputs": [],
      "source": [
        "pre_df['next_port_index'] = pre_df['next_port_index'].astype(int)"
      ]
    },
    {
      "cell_type": "code",
      "execution_count": null,
      "metadata": {},
      "outputs": [],
      "source": [
        "class_counts = pre_df['next_port_index'].value_counts()\n",
        "min_class_count = class_counts.min()\n",
        "df_balanced = pre_df.groupby('next_port_index').sample(n=min_class_count, random_state=1)\n",
        "display(df_balanced.head(100))"
      ]
    },
    {
      "cell_type": "code",
      "execution_count": 689,
      "metadata": {},
      "outputs": [
        {
          "name": "stdout",
          "output_type": "stream",
          "text": [
            "1764\n",
            "torch.Size([1764, 1764])\n",
            "Initial edge_index shape: torch.Size([2, 1764])\n",
            "Corrected edge_index shape: torch.Size([2, 1764])\n",
            "Edge index shape: torch.Size([2, 1764])\n",
            "Number of nodes: 1764\n",
            "Number of edges: 1764\n"
          ]
        }
      ],
      "source": [
        "import torch\n",
        "from torch_geometric.data import Data\n",
        "\n",
        "# Assuming node features are one-hot encoded for simplicity\n",
        "num_nodes = len(port_to_index)\n",
        "node_features = torch.eye(num_nodes)\n",
        "print(num_nodes)\n",
        "print(node_features.shape)\n",
        "\n",
        "# Ensure the edge_index is correctly formatted\n",
        "edge_index = torch.tensor([df_balanced['cur_port_index'].values, df_balanced['next_port_index'].values], dtype=torch.long)\n",
        "print(\"Initial edge_index shape:\", edge_index.shape)  # This should print [2, num_edges]\n",
        "\n",
        "# Only transpose if necessary\n",
        "if edge_index.shape[0] != 2:\n",
        "    edge_index = edge_index.t().contiguous()\n",
        "print(\"Corrected edge_index shape:\", edge_index.shape)  # Ensure this is [2, num_edges]\n",
        "\n",
        "labels = torch.tensor(df_balanced['next_port_index'].values, dtype=torch.long)\n",
        "\n",
        "# Create the graph data object again\n",
        "data = Data(x=node_features, edge_index=edge_index, y=labels)\n",
        "\n",
        "# Print to verify the correct structure\n",
        "print(\"Edge index shape:\", data.edge_index.shape)  # Should print something like [2, 1764] if there are 1764 edges\n",
        "print(\"Number of nodes:\", data.num_nodes)  # Should match the highest node index plus one\n",
        "print(\"Number of edges:\", data.edge_index.size(1))  # Should correctly report the number of edges\n",
        "\n",
        "max_edge_index = data.edge_index.max().item()\n",
        "if max_edge_index >= data.num_nodes:\n",
        "    raise ValueError(f\"Edge index {max_edge_index} out of bounds for {data.num_nodes} nodes.\")\n"
      ]
    },
    {
      "cell_type": "code",
      "execution_count": 690,
      "metadata": {},
      "outputs": [],
      "source": [
        "from torch_geometric.nn import GCNConv\n",
        "import torch.nn.functional as F\n",
        "import torch.nn as nn\n",
        "\n",
        "class GCN(nn.Module):\n",
        "    def __init__(self, num_features, num_classes):\n",
        "        super(GCN, self).__init__()\n",
        "        self.conv1 = GCNConv(num_features, 16)\n",
        "        self.conv2 = GCNConv(16, num_classes)\n",
        "\n",
        "    def forward(self, data):\n",
        "        x, edge_index = data.x, data.edge_index\n",
        "        x = F.relu(self.conv1(x, edge_index))\n",
        "        x = F.dropout(x, training=self.training)\n",
        "        x = self.conv2(x, edge_index)\n",
        "        x = F.log_softmax(x, dim=1)\n",
        "        return x\n",
        "\n",
        "model = GCN(num_features=num_nodes, num_classes=num_nodes)"
      ]
    },
    {
      "cell_type": "code",
      "execution_count": 691,
      "metadata": {},
      "outputs": [],
      "source": [
        "optimizer = torch.optim.Adam(model.parameters(), lr=0.01)\n",
        "criterion = torch.nn.CrossEntropyLoss()\n",
        "\n",
        "def train():\n",
        "    model.train()\n",
        "    optimizer.zero_grad()\n",
        "    out = model(data)\n",
        "    loss = criterion(out, data.y)\n",
        "    loss.backward()\n",
        "    optimizer.step()\n",
        "    return loss.item()\n",
        "\n",
        "def evaluate():\n",
        "    model.eval()\n",
        "    out = model(data)\n",
        "    _, pred = out.max(dim=1)\n",
        "    correct = pred.eq(data.y).sum().item()\n",
        "    return correct / data.num_nodes"
      ]
    },
    {
      "cell_type": "code",
      "execution_count": 692,
      "metadata": {},
      "outputs": [
        {
          "name": "stdout",
          "output_type": "stream",
          "text": [
            "Epoch 1: Loss 7.4753, Accuracy 0.0057\n",
            "Epoch 2: Loss 7.4736, Accuracy 0.0266\n",
            "Epoch 3: Loss 7.4708, Accuracy 0.0680\n",
            "Epoch 4: Loss 7.4671, Accuracy 0.1088\n",
            "Epoch 5: Loss 7.4623, Accuracy 0.1315\n",
            "Epoch 6: Loss 7.4558, Accuracy 0.1723\n",
            "Epoch 7: Loss 7.4493, Accuracy 0.2375\n",
            "Epoch 8: Loss 7.4414, Accuracy 0.2738\n",
            "Epoch 9: Loss 7.4310, Accuracy 0.3073\n",
            "Epoch 10: Loss 7.4208, Accuracy 0.3350\n",
            "Epoch 11: Loss 7.4080, Accuracy 0.3503\n",
            "Epoch 12: Loss 7.3990, Accuracy 0.3753\n",
            "Epoch 13: Loss 7.3829, Accuracy 0.3855\n",
            "Epoch 14: Loss 7.3655, Accuracy 0.4002\n",
            "Epoch 15: Loss 7.3481, Accuracy 0.4150\n",
            "Epoch 16: Loss 7.3241, Accuracy 0.4201\n",
            "Epoch 17: Loss 7.3041, Accuracy 0.4252\n",
            "Epoch 18: Loss 7.2784, Accuracy 0.4229\n",
            "Epoch 19: Loss 7.2631, Accuracy 0.4246\n",
            "Epoch 20: Loss 7.2288, Accuracy 0.4212\n",
            "Epoch 21: Loss 7.1974, Accuracy 0.4263\n",
            "Epoch 22: Loss 7.1601, Accuracy 0.4274\n",
            "Epoch 23: Loss 7.1276, Accuracy 0.4246\n",
            "Epoch 24: Loss 7.0961, Accuracy 0.4246\n",
            "Epoch 25: Loss 7.0616, Accuracy 0.4229\n",
            "Epoch 26: Loss 7.0193, Accuracy 0.4235\n",
            "Epoch 27: Loss 6.9693, Accuracy 0.4257\n",
            "Epoch 28: Loss 6.9362, Accuracy 0.4172\n",
            "Epoch 29: Loss 6.8790, Accuracy 0.4127\n",
            "Epoch 30: Loss 6.8555, Accuracy 0.4178\n",
            "Epoch 31: Loss 6.7843, Accuracy 0.4189\n",
            "Epoch 32: Loss 6.7232, Accuracy 0.4184\n",
            "Epoch 33: Loss 6.6890, Accuracy 0.4127\n",
            "Epoch 34: Loss 6.6216, Accuracy 0.4116\n",
            "Epoch 35: Loss 6.5688, Accuracy 0.4127\n",
            "Epoch 36: Loss 6.4990, Accuracy 0.4195\n",
            "Epoch 37: Loss 6.4562, Accuracy 0.4229\n",
            "Epoch 38: Loss 6.4153, Accuracy 0.4263\n",
            "Epoch 39: Loss 6.3493, Accuracy 0.4303\n",
            "Epoch 40: Loss 6.2776, Accuracy 0.4393\n",
            "Epoch 41: Loss 6.2091, Accuracy 0.4524\n",
            "Epoch 42: Loss 6.1344, Accuracy 0.4563\n",
            "Epoch 43: Loss 6.0557, Accuracy 0.4643\n",
            "Epoch 44: Loss 5.9614, Accuracy 0.4705\n",
            "Epoch 45: Loss 5.9517, Accuracy 0.4756\n",
            "Epoch 46: Loss 5.8269, Accuracy 0.4819\n",
            "Epoch 47: Loss 5.7917, Accuracy 0.4904\n",
            "Epoch 48: Loss 5.7301, Accuracy 0.4983\n",
            "Epoch 49: Loss 5.6914, Accuracy 0.5108\n",
            "Epoch 50: Loss 5.6010, Accuracy 0.5176\n",
            "Epoch 51: Loss 5.5035, Accuracy 0.5266\n",
            "Epoch 52: Loss 5.4532, Accuracy 0.5317\n",
            "Epoch 53: Loss 5.3892, Accuracy 0.5380\n",
            "Epoch 54: Loss 5.3125, Accuracy 0.5465\n",
            "Epoch 55: Loss 5.2504, Accuracy 0.5522\n",
            "Epoch 56: Loss 5.2070, Accuracy 0.5618\n",
            "Epoch 57: Loss 5.0708, Accuracy 0.5663\n",
            "Epoch 58: Loss 5.0696, Accuracy 0.5714\n",
            "Epoch 59: Loss 4.9530, Accuracy 0.5884\n",
            "Epoch 60: Loss 4.9461, Accuracy 0.5913\n",
            "Epoch 61: Loss 4.8082, Accuracy 0.6009\n",
            "Epoch 62: Loss 4.7748, Accuracy 0.6179\n",
            "Epoch 63: Loss 4.7475, Accuracy 0.6207\n",
            "Epoch 64: Loss 4.6768, Accuracy 0.6304\n",
            "Epoch 65: Loss 4.5899, Accuracy 0.6349\n",
            "Epoch 66: Loss 4.5896, Accuracy 0.6474\n",
            "Epoch 67: Loss 4.5375, Accuracy 0.6587\n",
            "Epoch 68: Loss 4.4386, Accuracy 0.6667\n",
            "Epoch 69: Loss 4.3974, Accuracy 0.6780\n",
            "Epoch 70: Loss 4.2954, Accuracy 0.6865\n",
            "Epoch 71: Loss 4.2343, Accuracy 0.6933\n",
            "Epoch 72: Loss 4.1840, Accuracy 0.7041\n",
            "Epoch 73: Loss 4.1986, Accuracy 0.7120\n",
            "Epoch 74: Loss 4.1566, Accuracy 0.7228\n",
            "Epoch 75: Loss 4.0393, Accuracy 0.7273\n",
            "Epoch 76: Loss 4.0612, Accuracy 0.7324\n",
            "Epoch 77: Loss 3.9663, Accuracy 0.7370\n",
            "Epoch 78: Loss 3.9657, Accuracy 0.7426\n",
            "Epoch 79: Loss 3.8566, Accuracy 0.7500\n",
            "Epoch 80: Loss 3.8815, Accuracy 0.7636\n",
            "Epoch 81: Loss 3.8992, Accuracy 0.7715\n",
            "Epoch 82: Loss 3.8506, Accuracy 0.7778\n",
            "Epoch 83: Loss 3.6852, Accuracy 0.7840\n",
            "Epoch 84: Loss 3.7780, Accuracy 0.7851\n",
            "Epoch 85: Loss 3.6552, Accuracy 0.7812\n",
            "Epoch 86: Loss 3.6380, Accuracy 0.7874\n",
            "Epoch 87: Loss 3.5760, Accuracy 0.7868\n",
            "Epoch 88: Loss 3.6740, Accuracy 0.7914\n",
            "Epoch 89: Loss 3.6263, Accuracy 0.7954\n",
            "Epoch 90: Loss 3.4936, Accuracy 0.7976\n",
            "Epoch 91: Loss 3.5611, Accuracy 0.7988\n",
            "Epoch 92: Loss 3.5042, Accuracy 0.8056\n",
            "Epoch 93: Loss 3.4263, Accuracy 0.8118\n",
            "Epoch 94: Loss 3.4270, Accuracy 0.8237\n",
            "Epoch 95: Loss 3.4064, Accuracy 0.8248\n",
            "Epoch 96: Loss 3.3732, Accuracy 0.8265\n",
            "Epoch 97: Loss 3.3475, Accuracy 0.8237\n",
            "Epoch 98: Loss 3.3550, Accuracy 0.8248\n",
            "Epoch 99: Loss 3.2779, Accuracy 0.8271\n",
            "Epoch 100: Loss 3.3255, Accuracy 0.8311\n",
            "Epoch 101: Loss 3.3405, Accuracy 0.8271\n",
            "Epoch 102: Loss 3.2219, Accuracy 0.8345\n",
            "Epoch 103: Loss 3.2470, Accuracy 0.8356\n",
            "Epoch 104: Loss 3.1682, Accuracy 0.8350\n",
            "Epoch 105: Loss 3.2632, Accuracy 0.8345\n",
            "Epoch 106: Loss 3.1930, Accuracy 0.8356\n",
            "Epoch 107: Loss 3.2381, Accuracy 0.8396\n",
            "Epoch 108: Loss 3.1688, Accuracy 0.8413\n",
            "Epoch 109: Loss 3.1332, Accuracy 0.8407\n",
            "Epoch 110: Loss 3.1496, Accuracy 0.8413\n",
            "Epoch 111: Loss 3.1012, Accuracy 0.8452\n",
            "Epoch 112: Loss 3.0756, Accuracy 0.8418\n",
            "Epoch 113: Loss 3.0650, Accuracy 0.8418\n",
            "Epoch 114: Loss 3.0328, Accuracy 0.8475\n",
            "Epoch 115: Loss 3.0824, Accuracy 0.8418\n",
            "Epoch 116: Loss 3.0461, Accuracy 0.8486\n",
            "Epoch 117: Loss 3.0189, Accuracy 0.8469\n",
            "Epoch 118: Loss 3.0462, Accuracy 0.8475\n",
            "Epoch 119: Loss 2.9858, Accuracy 0.8515\n",
            "Epoch 120: Loss 2.9801, Accuracy 0.8515\n",
            "Epoch 121: Loss 2.9409, Accuracy 0.8577\n",
            "Epoch 122: Loss 2.9488, Accuracy 0.8566\n",
            "Epoch 123: Loss 3.0530, Accuracy 0.8577\n",
            "Epoch 124: Loss 2.9239, Accuracy 0.8520\n",
            "Epoch 125: Loss 2.9326, Accuracy 0.8498\n",
            "Epoch 126: Loss 2.9951, Accuracy 0.8532\n",
            "Epoch 127: Loss 2.8892, Accuracy 0.8532\n",
            "Epoch 128: Loss 2.9185, Accuracy 0.8526\n",
            "Epoch 129: Loss 2.8837, Accuracy 0.8520\n",
            "Epoch 130: Loss 2.9235, Accuracy 0.8509\n",
            "Epoch 131: Loss 2.9600, Accuracy 0.8543\n",
            "Epoch 132: Loss 2.8188, Accuracy 0.8571\n",
            "Epoch 133: Loss 2.8427, Accuracy 0.8622\n",
            "Epoch 134: Loss 2.8477, Accuracy 0.8634\n",
            "Epoch 135: Loss 2.8190, Accuracy 0.8600\n",
            "Epoch 136: Loss 2.7646, Accuracy 0.8634\n",
            "Epoch 137: Loss 2.8822, Accuracy 0.8588\n",
            "Epoch 138: Loss 2.8228, Accuracy 0.8611\n",
            "Epoch 139: Loss 2.8665, Accuracy 0.8651\n",
            "Epoch 140: Loss 2.8135, Accuracy 0.8696\n",
            "Epoch 141: Loss 2.7387, Accuracy 0.8719\n",
            "Epoch 142: Loss 2.6992, Accuracy 0.8724\n",
            "Epoch 143: Loss 2.8172, Accuracy 0.8759\n",
            "Epoch 144: Loss 2.8134, Accuracy 0.8815\n",
            "Epoch 145: Loss 2.8034, Accuracy 0.8827\n",
            "Epoch 146: Loss 2.7349, Accuracy 0.8810\n",
            "Epoch 147: Loss 2.6426, Accuracy 0.8838\n",
            "Epoch 148: Loss 2.6757, Accuracy 0.8832\n",
            "Epoch 149: Loss 2.7248, Accuracy 0.8849\n",
            "Epoch 150: Loss 2.7477, Accuracy 0.8810\n",
            "Epoch 151: Loss 2.7398, Accuracy 0.8810\n",
            "Epoch 152: Loss 2.7896, Accuracy 0.8776\n",
            "Epoch 153: Loss 2.7493, Accuracy 0.8815\n",
            "Epoch 154: Loss 2.7086, Accuracy 0.8770\n",
            "Epoch 155: Loss 2.7599, Accuracy 0.8759\n",
            "Epoch 156: Loss 2.8042, Accuracy 0.8810\n",
            "Epoch 157: Loss 2.6816, Accuracy 0.8753\n",
            "Epoch 158: Loss 2.7302, Accuracy 0.8719\n",
            "Epoch 159: Loss 2.6582, Accuracy 0.8719\n",
            "Epoch 160: Loss 2.7033, Accuracy 0.8787\n",
            "Epoch 161: Loss 2.6761, Accuracy 0.8810\n",
            "Epoch 162: Loss 2.7002, Accuracy 0.8787\n",
            "Epoch 163: Loss 2.6506, Accuracy 0.8776\n",
            "Epoch 164: Loss 2.6352, Accuracy 0.8741\n",
            "Epoch 165: Loss 2.7208, Accuracy 0.8730\n",
            "Epoch 166: Loss 2.6680, Accuracy 0.8707\n",
            "Epoch 167: Loss 2.6377, Accuracy 0.8730\n",
            "Epoch 168: Loss 2.6203, Accuracy 0.8741\n",
            "Epoch 169: Loss 2.6727, Accuracy 0.8730\n",
            "Epoch 170: Loss 2.5995, Accuracy 0.8730\n",
            "Epoch 171: Loss 2.5821, Accuracy 0.8736\n",
            "Epoch 172: Loss 2.5383, Accuracy 0.8787\n",
            "Epoch 173: Loss 2.5978, Accuracy 0.8912\n",
            "Epoch 174: Loss 2.5341, Accuracy 0.8889\n",
            "Epoch 175: Loss 2.5678, Accuracy 0.8861\n",
            "Epoch 176: Loss 2.6598, Accuracy 0.8906\n",
            "Epoch 177: Loss 2.7120, Accuracy 0.8963\n",
            "Epoch 178: Loss 2.5662, Accuracy 0.8951\n",
            "Epoch 179: Loss 2.5969, Accuracy 0.8912\n",
            "Epoch 180: Loss 2.6057, Accuracy 0.8895\n",
            "Epoch 181: Loss 2.6267, Accuracy 0.8906\n",
            "Epoch 182: Loss 2.6709, Accuracy 0.8934\n",
            "Epoch 183: Loss 2.6183, Accuracy 0.8946\n",
            "Epoch 184: Loss 2.4822, Accuracy 0.8912\n",
            "Epoch 185: Loss 2.4800, Accuracy 0.8866\n",
            "Epoch 186: Loss 2.4799, Accuracy 0.8878\n",
            "Epoch 187: Loss 2.6088, Accuracy 0.8866\n",
            "Epoch 188: Loss 2.5362, Accuracy 0.8832\n",
            "Epoch 189: Loss 2.5019, Accuracy 0.8832\n",
            "Epoch 190: Loss 2.4665, Accuracy 0.8827\n",
            "Epoch 191: Loss 2.5717, Accuracy 0.8821\n",
            "Epoch 192: Loss 2.5693, Accuracy 0.8844\n",
            "Epoch 193: Loss 2.5684, Accuracy 0.8861\n",
            "Epoch 194: Loss 2.5055, Accuracy 0.8861\n",
            "Epoch 195: Loss 2.4785, Accuracy 0.8855\n",
            "Epoch 196: Loss 2.4411, Accuracy 0.8844\n",
            "Epoch 197: Loss 2.5531, Accuracy 0.8866\n",
            "Epoch 198: Loss 2.5557, Accuracy 0.8821\n",
            "Epoch 199: Loss 2.4898, Accuracy 0.8815\n",
            "Epoch 200: Loss 2.4938, Accuracy 0.8827\n"
          ]
        },
        {
          "data": {
            "image/png": "[encoded data removed]",
            "text/plain": [
              "<Figure size 1200x500 with 2 Axes>"
            ]
          },
          "metadata": {},
          "output_type": "display_data"
        }
      ],
      "source": [
        "losses, accuracies = [], []\n",
        "for epoch in range(200):\n",
        "    loss = train()\n",
        "    acc = evaluate()\n",
        "    losses.append(loss)\n",
        "    accuracies.append(acc)\n",
        "    print(f'Epoch {epoch+1}: Loss {loss:.4f}, Accuracy {acc:.4f}')\n",
        "\n",
        "# Plotting Learning and Validation Curves\n",
        "plt.figure(figsize=(12, 5))\n",
        "plt.subplot(1, 2, 1)\n",
        "plt.plot(losses, label='Training Loss')\n",
        "plt.title('Learning Curve - Loss')\n",
        "plt.xlabel('Epochs')\n",
        "plt.ylabel('Loss')\n",
        "plt.legend()\n",
        "\n",
        "plt.subplot(1, 2, 2)\n",
        "plt.plot(accuracies, label='Validation Accuracy')\n",
        "plt.title('Learning Curve - Accuracy')\n",
        "plt.xlabel('Epochs')\n",
        "plt.ylabel('Accuracy')\n",
        "plt.legend()\n",
        "plt.show()"
      ]
    },
    {
      "cell_type": "code",
      "execution_count": null,
      "metadata": {},
      "outputs": [],
      "source": [
        "# TODO: Add a testing split, cross validation and then learning curve"
      ]
    }
  ],
  "metadata": {
    "accelerator": "GPU",
    "colab": {
      "gpuType": "T4",
      "provenance": []
    },
    "kernelspec": {
      "display_name": "Python 3",
      "name": "python3"
    },
    "language_info": {
      "codemirror_mode": {
        "name": "ipython",
        "version": 3
      },
      "file_extension": ".py",
      "mimetype": "text/x-python",
      "name": "python",
      "nbconvert_exporter": "python",
      "pygments_lexer": "ipython3",
      "version": "3.11.8"
    }
  },
  "nbformat": 4,
  "nbformat_minor": 0
}
