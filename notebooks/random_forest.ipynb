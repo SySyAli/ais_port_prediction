{
 "cells": [
  {
   "cell_type": "code",
   "execution_count": 1,
   "metadata": {},
   "outputs": [],
   "source": [
    "import pandas as pd\n",
    "import numpy as np\n",
    "import seaborn as sns\n",
    "import matplotlib.pyplot as plt"
   ]
  },
  {
   "cell_type": "code",
   "execution_count": 13,
   "metadata": {},
   "outputs": [],
   "source": [
    "pre_df = pd.read_csv('../data/cleaned/cleaned_vessel_calls.csv')"
   ]
  },
  {
   "cell_type": "code",
   "execution_count": 14,
   "metadata": {},
   "outputs": [],
   "source": [
    "# preprocess dataframe - duration and month\n",
    "pre_df[\"arrivalDate\"] = pd.to_datetime(pre_df[\"arrivalDate\"])\n",
    "pre_df[\"sailingDate\"] = pd.to_datetime(pre_df[\"sailingDate\"])\n",
    "pre_df[\"duration\"] = pd.to_datetime(pre_df[\"sailingDate\"]) - pd.to_datetime(pre_df[\"arrivalDate\"])\n",
    "pre_df[\"month\"] = pre_df[\"arrivalDate\"].dt.month"
   ]
  },
  {
   "cell_type": "code",
   "execution_count": 15,
   "metadata": {},
   "outputs": [
    {
     "data": {
      "text/plain": [
       "array(['crude oil tanker', 'product tanker',\n",
       "       'fully cellular containership', 'vehicle carrier',\n",
       "       'Combined chemical and oil tanker', 'chemical tanker',\n",
       "       'Liquefied Petroleum Gas Carrier', 'semi-sub HL vessel',\n",
       "       'bulk carrier', 'general cargo with container capacity', 'tug',\n",
       "       'passenger (cruise)', 'patrol ship', 'Tanker (unspecified)',\n",
       "       'asphalt tanker', 'tug/supply', 'general cargo',\n",
       "       'Vessel Type (unspecified)', 'Roll On Roll Off'], dtype=object)"
      ]
     },
     "metadata": {},
     "output_type": "display_data"
    }
   ],
   "source": [
    "# preprocess dataframe - vessel type\n",
    "from sklearn.preprocessing import LabelEncoder\n",
    "\n",
    "display(pre_df[\"vessel.vesselType\"].unique())\n",
    "le_type = LabelEncoder()\n",
    "pre_df[\"vessel.vesselType\"] = le_type.fit_transform(pre_df[\"vessel.vesselType\"])"
   ]
  },
  {
   "cell_type": "code",
   "execution_count": 16,
   "metadata": {},
   "outputs": [],
   "source": [
    "# preprocess data\n",
    "# sort by imo number\n",
    "pre_df.sort_values(by=[\"IMO\", \"arrivalDate\"], inplace=True)\n",
    "pre_df['next_unlocode'] = pre_df.groupby('IMO')['place.unlocode'].shift(-1)\n",
    "pre_df['is_last_imo'] = pre_df['IMO'] != pre_df['IMO'].shift(-1)\n",
    "df_cleaned = pre_df[~pre_df[\"is_last_imo\"]]"
   ]
  },
  {
   "cell_type": "code",
   "execution_count": 17,
   "metadata": {},
   "outputs": [],
   "source": [
    "# encode unlocode, next unlocode\n",
    "# then create X data set and Y data set\n",
    "# split in test and train\n",
    "# create model random forest"
   ]
  }
 ],
 "metadata": {
  "kernelspec": {
   "display_name": "ais_env",
   "language": "python",
   "name": "python3"
  },
  "language_info": {
   "codemirror_mode": {
    "name": "ipython",
    "version": 3
   },
   "file_extension": ".py",
   "mimetype": "text/x-python",
   "name": "python",
   "nbconvert_exporter": "python",
   "pygments_lexer": "ipython3",
   "version": "3.12.2"
  }
 },
 "nbformat": 4,
 "nbformat_minor": 2
}
