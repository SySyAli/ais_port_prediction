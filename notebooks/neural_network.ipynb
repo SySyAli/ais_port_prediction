{
 "cells": [
  {
   "cell_type": "code",
   "execution_count": 1,
   "metadata": {},
   "outputs": [],
   "source": [
    "import torch\n",
    "import torch.nn as nn\n",
    "import torch.optim as optim\n",
    "from torch.utils.data import DataLoader, TensorDataset\n",
    "\n",
    "import pandas as pd\n",
    "import numpy as np\n",
    "import matplotlib.pyplot as plt\n",
    "from sklearn.preprocessing import LabelEncoder, MinMaxScaler, LabelBinarizer\n",
    "from sklearn.model_selection import train_test_split"
   ]
  },
  {
   "cell_type": "code",
   "execution_count": 2,
   "metadata": {},
   "outputs": [
    {
     "name": "stdout",
     "output_type": "stream",
     "text": [
      "Using device: cuda:0\n"
     ]
    }
   ],
   "source": [
    "# check device\n",
    "device = 'cuda:0' if torch.cuda.is_available() else 'cpu'\n",
    "print(f\"Using device: {device}\")"
   ]
  },
  {
   "cell_type": "code",
   "execution_count": 3,
   "metadata": {},
   "outputs": [],
   "source": [
    "# Load your data\n",
    "df = pd.read_csv('../data/cleaned/cleaned_vessel_calls.csv')"
   ]
  },
  {
   "cell_type": "code",
   "execution_count": 4,
   "metadata": {},
   "outputs": [],
   "source": [
    "# Preprocess the dataframe\n",
    "df[\"arrivalDate\"] = pd.to_datetime(df[\"arrivalDate\"])\n",
    "df[\"sailingDate\"] = pd.to_datetime(df[\"sailingDate\"])\n",
    "df[\"duration\"] = (df[\"sailingDate\"] - df[\"arrivalDate\"]) / pd.Timedelta(days=1)\n",
    "df[\"month\"] = df[\"arrivalDate\"].dt.month\n",
    "df = df.dropna()"
   ]
  },
  {
   "cell_type": "code",
   "execution_count": 5,
   "metadata": {},
   "outputs": [],
   "source": [
    "# cap any outliers\n",
    "cap = df['duration'].quantile(.99)\n",
    "df['capped_duration'] = df['duration'].apply(lambda x: min(x, cap))"
   ]
  },
  {
   "cell_type": "code",
   "execution_count": 6,
   "metadata": {},
   "outputs": [],
   "source": [
    "# Sort and filter data\n",
    "df.sort_values(by=[\"IMO\", \"arrivalDate\"], inplace=True)\n",
    "df['next_unlocode'] = df.groupby('IMO')['place.unlocode'].shift(-1)\n",
    "df['is_last_imo'] = df['IMO'] != df['IMO'].shift(-1)\n",
    "df = df[~df[\"is_last_imo\"]]\n",
    "df = df[df[\"Event_Type\"] != \"ARRIVAL\"]"
   ]
  },
  {
   "cell_type": "code",
   "execution_count": 7,
   "metadata": {},
   "outputs": [],
   "source": [
    "# Drop unnecessary columns\n",
    "df = df.drop(columns=[\"is_last_imo\", \"Event_Type\", \"Timestamp\", \"vessel.vesselName\", \"IMO\", \"arrivalDate\", \"sailingDate\", \"duration\"])\n",
    "\n",
    "# Rename columns for consistency\n",
    "df = df.rename(columns={'place.unlocode': 'current_unlocode', 'place.placeName': 'port_name', 'vessel.vesselType': 'vessel_type', 'place.placeType': 'place_type', 'place.countryName': 'country_name'})"
   ]
  },
  {
   "cell_type": "code",
   "execution_count": 8,
   "metadata": {},
   "outputs": [],
   "source": [
    "# Encode categorical features\n",
    "label_encoders = {}\n",
    "for column in ['port_name', 'country_name', 'vessel_type', 'place_type']:\n",
    "    le = LabelEncoder()\n",
    "    df[column] = le.fit_transform(df[column].astype(str))\n",
    "    label_encoders[column] = le"
   ]
  },
  {
   "cell_type": "code",
   "execution_count": 9,
   "metadata": {},
   "outputs": [],
   "source": [
    "# One-hot encode the port_unlocode feature\n",
    "lb_in = LabelBinarizer(sparse_output=False)\n",
    "unlocode_onehot = lb_in.fit_transform(df[['current_unlocode']])\n",
    "df_unlocode_onehot = pd.DataFrame(unlocode_onehot, columns=lb_in.classes_)"
   ]
  },
  {
   "cell_type": "code",
   "execution_count": 10,
   "metadata": {},
   "outputs": [],
   "source": [
    "lb_y = LabelBinarizer(sparse_output=False)\n",
    "y_onehot = lb_y.fit_transform(df[['next_unlocode']])"
   ]
  },
  {
   "cell_type": "code",
   "execution_count": 11,
   "metadata": {},
   "outputs": [],
   "source": [
    "y_onehot_df = pd.DataFrame(y_onehot, columns=lb_y.classes_)"
   ]
  },
  {
   "cell_type": "code",
   "execution_count": 12,
   "metadata": {},
   "outputs": [
    {
     "data": {
      "text/html": [
       "<div>\n",
       "<style scoped>\n",
       "    .dataframe tbody tr th:only-of-type {\n",
       "        vertical-align: middle;\n",
       "    }\n",
       "\n",
       "    .dataframe tbody tr th {\n",
       "        vertical-align: top;\n",
       "    }\n",
       "\n",
       "    .dataframe thead th {\n",
       "        text-align: right;\n",
       "    }\n",
       "</style>\n",
       "<table border=\"1\" class=\"dataframe\">\n",
       "  <thead>\n",
       "    <tr style=\"text-align: right;\">\n",
       "      <th></th>\n",
       "      <th>port_name</th>\n",
       "      <th>current_unlocode</th>\n",
       "      <th>place_type</th>\n",
       "      <th>country_name</th>\n",
       "      <th>vessel_type</th>\n",
       "      <th>month</th>\n",
       "      <th>capped_duration</th>\n",
       "      <th>next_unlocode</th>\n",
       "    </tr>\n",
       "  </thead>\n",
       "  <tbody>\n",
       "    <tr>\n",
       "      <th>314761</th>\n",
       "      <td>840</td>\n",
       "      <td>USLAX</td>\n",
       "      <td>1</td>\n",
       "      <td>163</td>\n",
       "      <td>4</td>\n",
       "      <td>1</td>\n",
       "      <td>7.579803</td>\n",
       "      <td>CNJGY</td>\n",
       "    </tr>\n",
       "    <tr>\n",
       "      <th>314763</th>\n",
       "      <td>658</td>\n",
       "      <td>CNJGY</td>\n",
       "      <td>1</td>\n",
       "      <td>104</td>\n",
       "      <td>4</td>\n",
       "      <td>2</td>\n",
       "      <td>1.484931</td>\n",
       "      <td>CNTXG</td>\n",
       "    </tr>\n",
       "    <tr>\n",
       "      <th>314765</th>\n",
       "      <td>1583</td>\n",
       "      <td>CNTXG</td>\n",
       "      <td>1</td>\n",
       "      <td>104</td>\n",
       "      <td>4</td>\n",
       "      <td>3</td>\n",
       "      <td>0.854514</td>\n",
       "      <td>CNQAW</td>\n",
       "    </tr>\n",
       "    <tr>\n",
       "      <th>314767</th>\n",
       "      <td>1279</td>\n",
       "      <td>CNQAW</td>\n",
       "      <td>2</td>\n",
       "      <td>104</td>\n",
       "      <td>4</td>\n",
       "      <td>3</td>\n",
       "      <td>0.613380</td>\n",
       "      <td>CNMSN</td>\n",
       "    </tr>\n",
       "    <tr>\n",
       "      <th>314769</th>\n",
       "      <td>908</td>\n",
       "      <td>CNMSN</td>\n",
       "      <td>2</td>\n",
       "      <td>104</td>\n",
       "      <td>4</td>\n",
       "      <td>3</td>\n",
       "      <td>1.021157</td>\n",
       "      <td>CNNSA</td>\n",
       "    </tr>\n",
       "    <tr>\n",
       "      <th>...</th>\n",
       "      <td>...</td>\n",
       "      <td>...</td>\n",
       "      <td>...</td>\n",
       "      <td>...</td>\n",
       "      <td>...</td>\n",
       "      <td>...</td>\n",
       "      <td>...</td>\n",
       "      <td>...</td>\n",
       "    </tr>\n",
       "    <tr>\n",
       "      <th>12569</th>\n",
       "      <td>1189</td>\n",
       "      <td>MYPKG</td>\n",
       "      <td>1</td>\n",
       "      <td>81</td>\n",
       "      <td>9</td>\n",
       "      <td>9</td>\n",
       "      <td>0.871701</td>\n",
       "      <td>INMAA</td>\n",
       "    </tr>\n",
       "    <tr>\n",
       "      <th>12571</th>\n",
       "      <td>290</td>\n",
       "      <td>INMAA</td>\n",
       "      <td>1</td>\n",
       "      <td>66</td>\n",
       "      <td>9</td>\n",
       "      <td>9</td>\n",
       "      <td>1.138021</td>\n",
       "      <td>BDCGP</td>\n",
       "    </tr>\n",
       "    <tr>\n",
       "      <th>12573</th>\n",
       "      <td>298</td>\n",
       "      <td>BDCGP</td>\n",
       "      <td>1</td>\n",
       "      <td>13</td>\n",
       "      <td>9</td>\n",
       "      <td>9</td>\n",
       "      <td>1.997604</td>\n",
       "      <td>THLCH</td>\n",
       "    </tr>\n",
       "    <tr>\n",
       "      <th>12575</th>\n",
       "      <td>789</td>\n",
       "      <td>THLCH</td>\n",
       "      <td>1</td>\n",
       "      <td>150</td>\n",
       "      <td>9</td>\n",
       "      <td>9</td>\n",
       "      <td>0.713912</td>\n",
       "      <td>SGSIN</td>\n",
       "    </tr>\n",
       "    <tr>\n",
       "      <th>12577</th>\n",
       "      <td>1470</td>\n",
       "      <td>SGSIN</td>\n",
       "      <td>1</td>\n",
       "      <td>123</td>\n",
       "      <td>9</td>\n",
       "      <td>9</td>\n",
       "      <td>0.272824</td>\n",
       "      <td>MYPKG</td>\n",
       "    </tr>\n",
       "  </tbody>\n",
       "</table>\n",
       "<p>170752 rows × 8 columns</p>\n",
       "</div>"
      ],
      "text/plain": [
       "        port_name current_unlocode  place_type  country_name  vessel_type  \\\n",
       "314761        840            USLAX           1           163            4   \n",
       "314763        658            CNJGY           1           104            4   \n",
       "314765       1583            CNTXG           1           104            4   \n",
       "314767       1279            CNQAW           2           104            4   \n",
       "314769        908            CNMSN           2           104            4   \n",
       "...           ...              ...         ...           ...          ...   \n",
       "12569        1189            MYPKG           1            81            9   \n",
       "12571         290            INMAA           1            66            9   \n",
       "12573         298            BDCGP           1            13            9   \n",
       "12575         789            THLCH           1           150            9   \n",
       "12577        1470            SGSIN           1           123            9   \n",
       "\n",
       "        month  capped_duration next_unlocode  \n",
       "314761      1         7.579803         CNJGY  \n",
       "314763      2         1.484931         CNTXG  \n",
       "314765      3         0.854514         CNQAW  \n",
       "314767      3         0.613380         CNMSN  \n",
       "314769      3         1.021157         CNNSA  \n",
       "...       ...              ...           ...  \n",
       "12569       9         0.871701         INMAA  \n",
       "12571       9         1.138021         BDCGP  \n",
       "12573       9         1.997604         THLCH  \n",
       "12575       9         0.713912         SGSIN  \n",
       "12577       9         0.272824         MYPKG  \n",
       "\n",
       "[170752 rows x 8 columns]"
      ]
     },
     "execution_count": 12,
     "metadata": {},
     "output_type": "execute_result"
    }
   ],
   "source": [
    "df"
   ]
  },
  {
   "cell_type": "code",
   "execution_count": 13,
   "metadata": {},
   "outputs": [],
   "source": [
    "# Add the one-hot encoded ports back to the dataframe\n",
    "df = pd.concat([df.reset_index(drop=True), df_unlocode_onehot], axis=1)\n",
    "df = df.drop(columns=['current_unlocode'])"
   ]
  },
  {
   "cell_type": "code",
   "execution_count": 14,
   "metadata": {},
   "outputs": [],
   "source": [
    "# Prepare features\n",
    "X = df.drop(columns=['next_unlocode'])\n",
    "y = y_onehot"
   ]
  },
  {
   "cell_type": "code",
   "execution_count": 15,
   "metadata": {},
   "outputs": [
    {
     "name": "stdout",
     "output_type": "stream",
     "text": [
      "X_train shape: (136601, 1778) y_train shape: (136601, 1771) X_test shape: (34151, 1778) y_test shape: (34151, 1771)\n"
     ]
    }
   ],
   "source": [
    "# Split the data\n",
    "X_train, X_test, y_train, y_test = train_test_split(X, y, test_size=0.2, random_state=42)\n",
    "# Print dimensions after split\n",
    "print(f\"X_train shape: {X_train.shape}\", f\"y_train shape: {y_train.shape}\", f\"X_test shape: {X_test.shape}\", f\"y_test shape: {y_test.shape}\")"
   ]
  },
  {
   "cell_type": "code",
   "execution_count": 16,
   "metadata": {},
   "outputs": [
    {
     "name": "stdout",
     "output_type": "stream",
     "text": [
      "(136601, 6) (136601, 1772)\n",
      "(34151, 6) (34151, 1772)\n",
      "Shapes after MinMax scaling:\n",
      "X_train.shape: (136601, 1778)\n",
      "X_test.shape: (34151, 1778)\n"
     ]
    }
   ],
   "source": [
    "# Specify columns to scale\n",
    "columns_to_scale = ['capped_duration', 'month', 'port_name', 'country_name', 'vessel_type', 'place_type']\n",
    "\n",
    "# Initialize the scaler\n",
    "scaler = MinMaxScaler()\n",
    "\n",
    "# Fit the scaler on the training data\n",
    "X_train_scaled_part = scaler.fit_transform(X_train[columns_to_scale])\n",
    "\n",
    "# Transform the test data\n",
    "X_test_scaled_part = scaler.transform(X_test[columns_to_scale])\n",
    "\n",
    "# Convert the scaled data back to DataFrames\n",
    "X_train_scaled_part = pd.DataFrame(X_train_scaled_part, columns=columns_to_scale, index=X_train.index)\n",
    "X_test_scaled_part = pd.DataFrame(X_test_scaled_part, columns=columns_to_scale, index=X_test.index)\n",
    "\n",
    "# Drop the columns to be scaled from the original DataFrames\n",
    "X_train_unscaled_part = X_train.drop(columns=columns_to_scale)\n",
    "X_test_unscaled_part = X_test.drop(columns=columns_to_scale)\n",
    "\n",
    "print(X_train_scaled_part.shape, X_train_unscaled_part.shape)\n",
    "print(X_test_scaled_part.shape, X_test_unscaled_part.shape)\n",
    "\n",
    "# Concatenate the scaled and unscaled parts\n",
    "X_train = pd.concat([X_train_scaled_part, X_train_unscaled_part], axis=1)\n",
    "X_test = pd.concat([X_test_scaled_part, X_test_unscaled_part], axis=1)\n",
    "\n",
    "# Verify the shapes after scaling\n",
    "print(\"Shapes after MinMax scaling:\")\n",
    "print(f\"X_train.shape: {X_train.shape}\")\n",
    "print(f\"X_test.shape: {X_test.shape}\")"
   ]
  },
  {
   "cell_type": "code",
   "execution_count": 17,
   "metadata": {},
   "outputs": [
    {
     "data": {
      "text/plain": [
       "(136601, 1778)"
      ]
     },
     "execution_count": 17,
     "metadata": {},
     "output_type": "execute_result"
    }
   ],
   "source": [
    "X_train.shape"
   ]
  },
  {
   "cell_type": "code",
   "execution_count": 18,
   "metadata": {},
   "outputs": [],
   "source": [
    "# Convert data to PyTorch tensors\n",
    "X_train_tensor = torch.tensor(X_train.values, dtype=torch.float32)\n",
    "y_train_tensor = torch.tensor(y_train, dtype=torch.float32)\n",
    "X_test_tensor = torch.tensor(X_test.values, dtype=torch.float32)\n",
    "y_test_tensor = torch.tensor(y_test, dtype=torch.float32)\n",
    "\n",
    "X_train_tensor = X_train_tensor.to(device)\n",
    "y_train_tensor = y_train_tensor.to(device)\n",
    "X_test_tensor = X_test_tensor.to(device)\n",
    "y_test_tensor = y_test_tensor.to(device)"
   ]
  },
  {
   "cell_type": "code",
   "execution_count": 19,
   "metadata": {},
   "outputs": [
    {
     "name": "stdout",
     "output_type": "stream",
     "text": [
      "X_train_tensor shape: torch.Size([136601, 1778]) y_train_tensor shape: torch.Size([136601, 1771]) X_test_tensor shape: torch.Size([34151, 1778]) y_test_tensor shape: torch.Size([34151, 1771])\n"
     ]
    }
   ],
   "source": [
    "# print of shapes of tensors\n",
    "print(f\"X_train_tensor shape: {X_train_tensor.shape}\", f\"y_train_tensor shape: {y_train_tensor.shape}\", f\"X_test_tensor shape: {X_test_tensor.shape}\", f\"y_test_tensor shape: {y_test_tensor.shape}\")"
   ]
  },
  {
   "cell_type": "code",
   "execution_count": 20,
   "metadata": {},
   "outputs": [],
   "source": [
    "# Create DataLoader\n",
    "train_dataset = TensorDataset(X_train_tensor, y_train_tensor)\n",
    "test_dataset = TensorDataset(X_test_tensor, y_test_tensor)\n",
    "batch_size = 64\n",
    "train_loader = DataLoader(train_dataset, batch_size=batch_size, shuffle=True)\n",
    "test_loader = DataLoader(test_dataset, batch_size=batch_size, shuffle=True)"
   ]
  },
  {
   "cell_type": "code",
   "execution_count": 21,
   "metadata": {},
   "outputs": [],
   "source": [
    "class PortPredictor(nn.Module):\n",
    "    def __init__(self, input_size, hidden_size, num_classes, dropout_rate=0.5):\n",
    "        super(PortPredictor, self).__init__()\n",
    "        self.fc1 = nn.Linear(input_size, 1024, device=device)\n",
    "        self.fc2 = nn.Linear(1024, 512)\n",
    "        self.fc3 = nn.Linear(512, 256)\n",
    "        self.fc4 = nn.Linear(256, 128)\n",
    "        self.fc5 = nn.Linear(128, 128)\n",
    "        self.fc6 = nn.Linear(128, 256)\n",
    "        self.fc7 = nn.Linear(256, 512)\n",
    "        self.fc8 = nn.Linear(512, 1024)\n",
    "        self.fc9 = nn.Linear(1024, num_classes)\n",
    "        self.relu = nn.ReLU()\n",
    "\n",
    "    def forward(self, x):\n",
    "        x = self.relu(self.fc1(x))\n",
    "        x = self.relu(self.fc2(x))\n",
    "        x = self.relu(self.fc3(x))\n",
    "        x = self.relu(self.fc4(x))\n",
    "        x = self.relu(self.fc5(x))\n",
    "        x = self.relu(self.fc6(x))\n",
    "        x = self.relu(self.fc7(x))\n",
    "        x = self.relu(self.fc8(x))\n",
    "        x = self.fc9(x)\n",
    "        return x\n",
    "    \n",
    "input_size = X_train_tensor.shape[1]\n",
    "num_classes = y_train_tensor.shape[1]\n",
    "hidden_sizes = [1024, 512, 256, 128]\n",
    "\n",
    "# TODO: Play around with the loss function and learning rate - you want it to fluctuate. Goal is to minimize the loss\n",
    "model = PortPredictor(input_size, hidden_sizes, num_classes).to(device)\n",
    "criterion = nn.CrossEntropyLoss() \n",
    "optimizer = optim.Adam(model.parameters(), lr=0.001, weight_decay=1e-5)\n",
    "scheduler = optim.lr_scheduler.StepLR(optimizer, step_size=10, gamma=0.1)  # StepLR scheduler"
   ]
  },
  {
   "cell_type": "code",
   "execution_count": 22,
   "metadata": {},
   "outputs": [
    {
     "data": {
      "text/plain": [
       "torch.Size([136601, 1778])"
      ]
     },
     "execution_count": 22,
     "metadata": {},
     "output_type": "execute_result"
    }
   ],
   "source": [
    "X_train_tensor.shape"
   ]
  },
  {
   "cell_type": "code",
   "execution_count": 23,
   "metadata": {},
   "outputs": [
    {
     "data": {
      "text/plain": [
       "tensor([[0.1373, 0.0000, 0.0460,  ..., 0.0000, 0.0000, 0.0000],\n",
       "        [0.2286, 0.6364, 0.0023,  ..., 0.0000, 0.0000, 0.0000],\n",
       "        [0.0402, 0.6364, 0.8348,  ..., 0.0000, 0.0000, 0.0000],\n",
       "        ...,\n",
       "        [0.1566, 0.8182, 0.2737,  ..., 0.0000, 0.0000, 0.0000],\n",
       "        [0.2637, 0.4545, 0.0346,  ..., 0.0000, 0.0000, 0.0000],\n",
       "        [0.0604, 0.1818, 0.4974,  ..., 0.0000, 0.0000, 0.0000]],\n",
       "       device='cuda:0')"
      ]
     },
     "execution_count": 23,
     "metadata": {},
     "output_type": "execute_result"
    }
   ],
   "source": [
    "X_train_tensor"
   ]
  },
  {
   "cell_type": "code",
   "execution_count": 24,
   "metadata": {},
   "outputs": [
    {
     "data": {
      "text/plain": [
       "PortPredictor(\n",
       "  (fc1): Linear(in_features=1778, out_features=1024, bias=True)\n",
       "  (fc2): Linear(in_features=1024, out_features=512, bias=True)\n",
       "  (fc3): Linear(in_features=512, out_features=256, bias=True)\n",
       "  (fc4): Linear(in_features=256, out_features=128, bias=True)\n",
       "  (fc5): Linear(in_features=128, out_features=128, bias=True)\n",
       "  (fc6): Linear(in_features=128, out_features=256, bias=True)\n",
       "  (fc7): Linear(in_features=256, out_features=512, bias=True)\n",
       "  (fc8): Linear(in_features=512, out_features=1024, bias=True)\n",
       "  (fc9): Linear(in_features=1024, out_features=1771, bias=True)\n",
       "  (relu): ReLU()\n",
       ")"
      ]
     },
     "execution_count": 24,
     "metadata": {},
     "output_type": "execute_result"
    }
   ],
   "source": [
    "model"
   ]
  },
  {
   "cell_type": "code",
   "execution_count": 25,
   "metadata": {},
   "outputs": [],
   "source": [
    "# Lists to store loss and accuracy\n",
    "train_losses = []\n",
    "train_accuracies = []\n",
    "test_losses = []\n",
    "test_accuracies = []\n",
    "\n",
    "def train_model():\n",
    "    model.train()\n",
    "    total_loss = 0\n",
    "    correct = 0\n",
    "    total = 0\n",
    "    for inputs, targets in train_loader:\n",
    "        inputs, targets = inputs.to(device), targets.to(device)\n",
    "        optimizer.zero_grad()\n",
    "        outputs = model(inputs)\n",
    "        loss = criterion(outputs, torch.argmax(targets, dim=1))\n",
    "        loss.backward()\n",
    "        optimizer.step()\n",
    "\n",
    "        total_loss += loss.item()\n",
    "        _, predicted = torch.max(outputs, 1)\n",
    "        target_classes = torch.argmax(targets, dim=1)\n",
    "        correct += (predicted == target_classes).sum().item()\n",
    "        total += target_classes.size(0)\n",
    "        \n",
    "    accuracy = correct / total\n",
    "    return total_loss / len(train_loader), accuracy\n",
    "\n",
    "def test_model():\n",
    "    model.eval()\n",
    "    total_loss = 0\n",
    "    correct = 0\n",
    "    total = 0\n",
    "    with torch.no_grad():\n",
    "        for inputs, targets in test_loader:\n",
    "            inputs, targets = inputs.to(device), targets.to(device)\n",
    "            outputs = model(inputs)\n",
    "            loss = criterion(outputs, torch.argmax(targets, dim=1))\n",
    "            \n",
    "            total_loss += loss.item()\n",
    "            _, predicted = torch.max(outputs, 1)\n",
    "            target_classes = torch.argmax(targets, dim=1)\n",
    "            correct += (predicted == target_classes).sum().item()\n",
    "            total += target_classes.size(0)\n",
    "            \n",
    "    accuracy = correct / total\n",
    "    return total_loss / len(test_loader), accuracy"
   ]
  },
  {
   "cell_type": "code",
   "execution_count": 26,
   "metadata": {},
   "outputs": [
    {
     "name": "stdout",
     "output_type": "stream",
     "text": [
      "Epoch 0, Train Loss: 5.0328, Train Acc: 7.5131, Test Loss: 4.4689, Test Acc: 10.7288\n",
      "Epoch 1, Train Loss: 4.1979, Train Acc: 13.5402, Test Loss: 4.1067, Test Acc: 14.0962\n",
      "Epoch 2, Train Loss: 3.9502, Train Acc: 15.9457, Test Loss: 3.9192, Test Acc: 16.5852\n",
      "Epoch 3, Train Loss: 3.8071, Train Acc: 17.4552, Test Loss: 3.8220, Test Acc: 18.1927\n",
      "Epoch 4, Train Loss: 3.7094, Train Acc: 18.4764, Test Loss: 3.7546, Test Acc: 18.9218\n",
      "Epoch 5, Train Loss: 3.6428, Train Acc: 19.2349, Test Loss: 3.7031, Test Acc: 19.5368\n",
      "Epoch 6, Train Loss: 3.5876, Train Acc: 19.7136, Test Loss: 3.6780, Test Acc: 19.3172\n",
      "Epoch 7, Train Loss: 3.5402, Train Acc: 20.1741, Test Loss: 3.6401, Test Acc: 20.0492\n",
      "Epoch 8, Train Loss: 3.4977, Train Acc: 20.6953, Test Loss: 3.6374, Test Acc: 20.0053\n",
      "Epoch 9, Train Loss: 3.4585, Train Acc: 21.0972, Test Loss: 3.5921, Test Acc: 20.8691\n",
      "Epoch 10, Train Loss: 3.2902, Train Acc: 23.1565, Test Loss: 3.4849, Test Acc: 22.9422\n",
      "Epoch 11, Train Loss: 3.2486, Train Acc: 23.7560, Test Loss: 3.4746, Test Acc: 23.2292\n",
      "Epoch 12, Train Loss: 3.2282, Train Acc: 23.9435, Test Loss: 3.4656, Test Acc: 23.3668\n",
      "Epoch 13, Train Loss: 3.2122, Train Acc: 24.1367, Test Loss: 3.4644, Test Acc: 23.5630\n",
      "Epoch 14, Train Loss: 3.1976, Train Acc: 24.4215, Test Loss: 3.4576, Test Acc: 23.8060\n",
      "Epoch 15, Train Loss: 3.1850, Train Acc: 24.6140, Test Loss: 3.4550, Test Acc: 23.8558\n",
      "Epoch 16, Train Loss: 3.1733, Train Acc: 24.7312, Test Loss: 3.4557, Test Acc: 23.7826\n",
      "Epoch 17, Train Loss: 3.1615, Train Acc: 24.9215, Test Loss: 3.4518, Test Acc: 23.9642\n",
      "Epoch 18, Train Loss: 3.1510, Train Acc: 25.0372, Test Loss: 3.4524, Test Acc: 23.8382\n",
      "Epoch 19, Train Loss: 3.1409, Train Acc: 25.2004, Test Loss: 3.4521, Test Acc: 24.0696\n",
      "Epoch 20, Train Loss: 3.1078, Train Acc: 25.6162, Test Loss: 3.4410, Test Acc: 24.2863\n",
      "Epoch 21, Train Loss: 3.1032, Train Acc: 25.6455, Test Loss: 3.4396, Test Acc: 24.4268\n",
      "Epoch 22, Train Loss: 3.1009, Train Acc: 25.7165, Test Loss: 3.4404, Test Acc: 24.3595\n",
      "Epoch 23, Train Loss: 3.0992, Train Acc: 25.7978, Test Loss: 3.4406, Test Acc: 24.3975\n",
      "Epoch 24, Train Loss: 3.0977, Train Acc: 25.7524, Test Loss: 3.4409, Test Acc: 24.4239\n",
      "Epoch 25, Train Loss: 3.0963, Train Acc: 25.8256, Test Loss: 3.4409, Test Acc: 24.4385\n",
      "Epoch 26, Train Loss: 3.0947, Train Acc: 25.8234, Test Loss: 3.4413, Test Acc: 24.4619\n",
      "Epoch 27, Train Loss: 3.0937, Train Acc: 25.8124, Test Loss: 3.4410, Test Acc: 24.4385\n",
      "Epoch 28, Train Loss: 3.0921, Train Acc: 25.8761, Test Loss: 3.4409, Test Acc: 24.4532\n",
      "Epoch 29, Train Loss: 3.0908, Train Acc: 25.8856, Test Loss: 3.4412, Test Acc: 24.5059\n",
      "Epoch 30, Train Loss: 3.0867, Train Acc: 25.9617, Test Loss: 3.4404, Test Acc: 24.5205\n",
      "Epoch 31, Train Loss: 3.0861, Train Acc: 25.9559, Test Loss: 3.4408, Test Acc: 24.4942\n",
      "Epoch 32, Train Loss: 3.0858, Train Acc: 25.9508, Test Loss: 3.4406, Test Acc: 24.5059\n",
      "Epoch 33, Train Loss: 3.0856, Train Acc: 25.9625, Test Loss: 3.4412, Test Acc: 24.5059\n",
      "Epoch 34, Train Loss: 3.0857, Train Acc: 25.9500, Test Loss: 3.4403, Test Acc: 24.4971\n",
      "Epoch 35, Train Loss: 3.0855, Train Acc: 25.9793, Test Loss: 3.4409, Test Acc: 24.4795\n",
      "Epoch 36, Train Loss: 3.0854, Train Acc: 25.9844, Test Loss: 3.4406, Test Acc: 24.5059\n",
      "Epoch 37, Train Loss: 3.0853, Train Acc: 25.9632, Test Loss: 3.4409, Test Acc: 24.4942\n",
      "Epoch 38, Train Loss: 3.0850, Train Acc: 25.9720, Test Loss: 3.4409, Test Acc: 24.4824\n",
      "Epoch 39, Train Loss: 3.0850, Train Acc: 25.9888, Test Loss: 3.4404, Test Acc: 24.5088\n",
      "Epoch 40, Train Loss: 3.0845, Train Acc: 25.9932, Test Loss: 3.4411, Test Acc: 24.5059\n",
      "Epoch 41, Train Loss: 3.0844, Train Acc: 25.9947, Test Loss: 3.4413, Test Acc: 24.5059\n",
      "Epoch 42, Train Loss: 3.0843, Train Acc: 25.9925, Test Loss: 3.4407, Test Acc: 24.5059\n",
      "Epoch 43, Train Loss: 3.0843, Train Acc: 25.9976, Test Loss: 3.4409, Test Acc: 24.4971\n",
      "Epoch 44, Train Loss: 3.0844, Train Acc: 25.9925, Test Loss: 3.4409, Test Acc: 24.4971\n",
      "Epoch 45, Train Loss: 3.0843, Train Acc: 25.9976, Test Loss: 3.4410, Test Acc: 24.4971\n",
      "Epoch 46, Train Loss: 3.0843, Train Acc: 25.9961, Test Loss: 3.4406, Test Acc: 24.5000\n",
      "Epoch 47, Train Loss: 3.0842, Train Acc: 25.9976, Test Loss: 3.4414, Test Acc: 24.5000\n",
      "Epoch 48, Train Loss: 3.0843, Train Acc: 25.9969, Test Loss: 3.4407, Test Acc: 24.4971\n",
      "Epoch 49, Train Loss: 3.0843, Train Acc: 25.9925, Test Loss: 3.4411, Test Acc: 24.5000\n",
      "Epoch 50, Train Loss: 3.0843, Train Acc: 25.9976, Test Loss: 3.4408, Test Acc: 24.5000\n",
      "Epoch 51, Train Loss: 3.0844, Train Acc: 25.9969, Test Loss: 3.4409, Test Acc: 24.5000\n",
      "Epoch 52, Train Loss: 3.0842, Train Acc: 25.9983, Test Loss: 3.4407, Test Acc: 24.5000\n",
      "Epoch 53, Train Loss: 3.0841, Train Acc: 25.9969, Test Loss: 3.4407, Test Acc: 24.5000\n",
      "Epoch 54, Train Loss: 3.0841, Train Acc: 25.9976, Test Loss: 3.4410, Test Acc: 24.5000\n",
      "Epoch 55, Train Loss: 3.0845, Train Acc: 25.9976, Test Loss: 3.4407, Test Acc: 24.5000\n",
      "Epoch 56, Train Loss: 3.0843, Train Acc: 25.9976, Test Loss: 3.4409, Test Acc: 24.4971\n",
      "Epoch 57, Train Loss: 3.0841, Train Acc: 25.9976, Test Loss: 3.4408, Test Acc: 24.4971\n",
      "Epoch 58, Train Loss: 3.0843, Train Acc: 25.9976, Test Loss: 3.4408, Test Acc: 24.4971\n",
      "Epoch 59, Train Loss: 3.0841, Train Acc: 25.9969, Test Loss: 3.4414, Test Acc: 24.4971\n",
      "Epoch 60, Train Loss: 3.0842, Train Acc: 25.9976, Test Loss: 3.4414, Test Acc: 24.4971\n",
      "Epoch 61, Train Loss: 3.0842, Train Acc: 25.9976, Test Loss: 3.4410, Test Acc: 24.4971\n",
      "Epoch 62, Train Loss: 3.0842, Train Acc: 25.9976, Test Loss: 3.4404, Test Acc: 24.4971\n",
      "Epoch 63, Train Loss: 3.0841, Train Acc: 25.9976, Test Loss: 3.4408, Test Acc: 24.4971\n",
      "Epoch 64, Train Loss: 3.0844, Train Acc: 25.9976, Test Loss: 3.4411, Test Acc: 24.4971\n",
      "Epoch 65, Train Loss: 3.0841, Train Acc: 25.9976, Test Loss: 3.4412, Test Acc: 24.4971\n",
      "Epoch 66, Train Loss: 3.0841, Train Acc: 25.9976, Test Loss: 3.4409, Test Acc: 24.4971\n",
      "Epoch 67, Train Loss: 3.0842, Train Acc: 25.9976, Test Loss: 3.4409, Test Acc: 24.4971\n",
      "Epoch 68, Train Loss: 3.0842, Train Acc: 25.9976, Test Loss: 3.4410, Test Acc: 24.4971\n",
      "Epoch 69, Train Loss: 3.0842, Train Acc: 25.9976, Test Loss: 3.4407, Test Acc: 24.4971\n",
      "Epoch 70, Train Loss: 3.0841, Train Acc: 25.9976, Test Loss: 3.4409, Test Acc: 24.4971\n",
      "Epoch 71, Train Loss: 3.0842, Train Acc: 25.9976, Test Loss: 3.4415, Test Acc: 24.4971\n",
      "Epoch 72, Train Loss: 3.0841, Train Acc: 25.9976, Test Loss: 3.4410, Test Acc: 24.4971\n",
      "Epoch 73, Train Loss: 3.0841, Train Acc: 25.9976, Test Loss: 3.4407, Test Acc: 24.4971\n",
      "Epoch 74, Train Loss: 3.0842, Train Acc: 25.9976, Test Loss: 3.4404, Test Acc: 24.4971\n",
      "Epoch 75, Train Loss: 3.0842, Train Acc: 25.9976, Test Loss: 3.4412, Test Acc: 24.4971\n",
      "Epoch 76, Train Loss: 3.0842, Train Acc: 25.9976, Test Loss: 3.4409, Test Acc: 24.4971\n",
      "Epoch 77, Train Loss: 3.0842, Train Acc: 25.9976, Test Loss: 3.4405, Test Acc: 24.4971\n",
      "Epoch 78, Train Loss: 3.0842, Train Acc: 25.9976, Test Loss: 3.4412, Test Acc: 24.4971\n",
      "Epoch 79, Train Loss: 3.0843, Train Acc: 25.9976, Test Loss: 3.4411, Test Acc: 24.4971\n",
      "Epoch 80, Train Loss: 3.0841, Train Acc: 25.9976, Test Loss: 3.4409, Test Acc: 24.4971\n",
      "Epoch 81, Train Loss: 3.0845, Train Acc: 25.9976, Test Loss: 3.4411, Test Acc: 24.4971\n",
      "Epoch 82, Train Loss: 3.0841, Train Acc: 25.9976, Test Loss: 3.4411, Test Acc: 24.4971\n",
      "Epoch 83, Train Loss: 3.0842, Train Acc: 25.9976, Test Loss: 3.4405, Test Acc: 24.4971\n",
      "Epoch 84, Train Loss: 3.0842, Train Acc: 25.9976, Test Loss: 3.4414, Test Acc: 24.4971\n",
      "Epoch 85, Train Loss: 3.0841, Train Acc: 25.9976, Test Loss: 3.4410, Test Acc: 24.4971\n",
      "Epoch 86, Train Loss: 3.0841, Train Acc: 25.9976, Test Loss: 3.4410, Test Acc: 24.4971\n",
      "Epoch 87, Train Loss: 3.0842, Train Acc: 25.9976, Test Loss: 3.4409, Test Acc: 24.4971\n",
      "Epoch 88, Train Loss: 3.0842, Train Acc: 25.9976, Test Loss: 3.4404, Test Acc: 24.4971\n",
      "Epoch 89, Train Loss: 3.0840, Train Acc: 25.9976, Test Loss: 3.4411, Test Acc: 24.4971\n",
      "Epoch 90, Train Loss: 3.0842, Train Acc: 25.9976, Test Loss: 3.4409, Test Acc: 24.4971\n",
      "Epoch 91, Train Loss: 3.0840, Train Acc: 25.9976, Test Loss: 3.4412, Test Acc: 24.4971\n",
      "Epoch 92, Train Loss: 3.0842, Train Acc: 25.9976, Test Loss: 3.4407, Test Acc: 24.4971\n",
      "Epoch 93, Train Loss: 3.0841, Train Acc: 25.9976, Test Loss: 3.4407, Test Acc: 24.4971\n",
      "Epoch 94, Train Loss: 3.0841, Train Acc: 25.9976, Test Loss: 3.4410, Test Acc: 24.4971\n",
      "Epoch 95, Train Loss: 3.0843, Train Acc: 25.9976, Test Loss: 3.4407, Test Acc: 24.4971\n",
      "Epoch 96, Train Loss: 3.0843, Train Acc: 25.9976, Test Loss: 3.4412, Test Acc: 24.4971\n",
      "Epoch 97, Train Loss: 3.0843, Train Acc: 25.9976, Test Loss: 3.4405, Test Acc: 24.4971\n",
      "Epoch 98, Train Loss: 3.0841, Train Acc: 25.9976, Test Loss: 3.4408, Test Acc: 24.4971\n",
      "Epoch 99, Train Loss: 3.0842, Train Acc: 25.9976, Test Loss: 3.4406, Test Acc: 24.4971\n",
      "Epoch 100, Train Loss: 3.0842, Train Acc: 25.9976, Test Loss: 3.4407, Test Acc: 24.4971\n",
      "Epoch 101, Train Loss: 3.0842, Train Acc: 25.9976, Test Loss: 3.4409, Test Acc: 24.4971\n",
      "Epoch 102, Train Loss: 3.0843, Train Acc: 25.9976, Test Loss: 3.4413, Test Acc: 24.4971\n",
      "Epoch 103, Train Loss: 3.0841, Train Acc: 25.9976, Test Loss: 3.4409, Test Acc: 24.4971\n",
      "Epoch 104, Train Loss: 3.0842, Train Acc: 25.9976, Test Loss: 3.4414, Test Acc: 24.4971\n",
      "Epoch 105, Train Loss: 3.0842, Train Acc: 25.9976, Test Loss: 3.4406, Test Acc: 24.4971\n",
      "Epoch 106, Train Loss: 3.0842, Train Acc: 25.9976, Test Loss: 3.4413, Test Acc: 24.4971\n",
      "Epoch 107, Train Loss: 3.0842, Train Acc: 25.9976, Test Loss: 3.4408, Test Acc: 24.4971\n",
      "Epoch 108, Train Loss: 3.0841, Train Acc: 25.9976, Test Loss: 3.4411, Test Acc: 24.4971\n",
      "Epoch 109, Train Loss: 3.0841, Train Acc: 25.9976, Test Loss: 3.4414, Test Acc: 24.4971\n",
      "Epoch 110, Train Loss: 3.0841, Train Acc: 25.9976, Test Loss: 3.4409, Test Acc: 24.4971\n",
      "Epoch 111, Train Loss: 3.0842, Train Acc: 25.9976, Test Loss: 3.4413, Test Acc: 24.4971\n",
      "Epoch 112, Train Loss: 3.0843, Train Acc: 25.9976, Test Loss: 3.4405, Test Acc: 24.4971\n",
      "Epoch 113, Train Loss: 3.0841, Train Acc: 25.9976, Test Loss: 3.4410, Test Acc: 24.4971\n",
      "Epoch 114, Train Loss: 3.0843, Train Acc: 25.9976, Test Loss: 3.4414, Test Acc: 24.4971\n",
      "Epoch 115, Train Loss: 3.0842, Train Acc: 25.9976, Test Loss: 3.4410, Test Acc: 24.4971\n",
      "Epoch 116, Train Loss: 3.0841, Train Acc: 25.9976, Test Loss: 3.4412, Test Acc: 24.4971\n",
      "Epoch 117, Train Loss: 3.0843, Train Acc: 25.9976, Test Loss: 3.4404, Test Acc: 24.4971\n",
      "Epoch 118, Train Loss: 3.0840, Train Acc: 25.9976, Test Loss: 3.4410, Test Acc: 24.4971\n",
      "Epoch 119, Train Loss: 3.0842, Train Acc: 25.9976, Test Loss: 3.4420, Test Acc: 24.4971\n",
      "Epoch 120, Train Loss: 3.0843, Train Acc: 25.9976, Test Loss: 3.4408, Test Acc: 24.4971\n",
      "Epoch 121, Train Loss: 3.0843, Train Acc: 25.9976, Test Loss: 3.4415, Test Acc: 24.4971\n",
      "Epoch 122, Train Loss: 3.0841, Train Acc: 25.9976, Test Loss: 3.4407, Test Acc: 24.4971\n",
      "Epoch 123, Train Loss: 3.0840, Train Acc: 25.9976, Test Loss: 3.4417, Test Acc: 24.4971\n",
      "Epoch 124, Train Loss: 3.0842, Train Acc: 25.9976, Test Loss: 3.4410, Test Acc: 24.4971\n",
      "Epoch 125, Train Loss: 3.0841, Train Acc: 25.9976, Test Loss: 3.4411, Test Acc: 24.4971\n",
      "Epoch 126, Train Loss: 3.0843, Train Acc: 25.9976, Test Loss: 3.4413, Test Acc: 24.4971\n",
      "Epoch 127, Train Loss: 3.0842, Train Acc: 25.9976, Test Loss: 3.4406, Test Acc: 24.4971\n",
      "Epoch 128, Train Loss: 3.0842, Train Acc: 25.9976, Test Loss: 3.4409, Test Acc: 24.4971\n",
      "Epoch 129, Train Loss: 3.0842, Train Acc: 25.9976, Test Loss: 3.4404, Test Acc: 24.4971\n",
      "Epoch 130, Train Loss: 3.0841, Train Acc: 25.9976, Test Loss: 3.4406, Test Acc: 24.4971\n",
      "Epoch 131, Train Loss: 3.0842, Train Acc: 25.9976, Test Loss: 3.4407, Test Acc: 24.4971\n",
      "Epoch 132, Train Loss: 3.0843, Train Acc: 25.9976, Test Loss: 3.4407, Test Acc: 24.4971\n",
      "Epoch 133, Train Loss: 3.0843, Train Acc: 25.9976, Test Loss: 3.4415, Test Acc: 24.4971\n",
      "Epoch 134, Train Loss: 3.0842, Train Acc: 25.9976, Test Loss: 3.4406, Test Acc: 24.4971\n",
      "Epoch 135, Train Loss: 3.0841, Train Acc: 25.9976, Test Loss: 3.4409, Test Acc: 24.4971\n",
      "Epoch 136, Train Loss: 3.0841, Train Acc: 25.9976, Test Loss: 3.4406, Test Acc: 24.4971\n",
      "Epoch 137, Train Loss: 3.0842, Train Acc: 25.9976, Test Loss: 3.4411, Test Acc: 24.4971\n",
      "Epoch 138, Train Loss: 3.0841, Train Acc: 25.9976, Test Loss: 3.4410, Test Acc: 24.4971\n",
      "Epoch 139, Train Loss: 3.0842, Train Acc: 25.9976, Test Loss: 3.4413, Test Acc: 24.4971\n",
      "Epoch 140, Train Loss: 3.0842, Train Acc: 25.9976, Test Loss: 3.4407, Test Acc: 24.4971\n",
      "Epoch 141, Train Loss: 3.0842, Train Acc: 25.9976, Test Loss: 3.4410, Test Acc: 24.4971\n"
     ]
    },
    {
     "ename": "KeyboardInterrupt",
     "evalue": "",
     "output_type": "error",
     "traceback": [
      "\u001b[1;31m---------------------------------------------------------------------------\u001b[0m",
      "\u001b[1;31mKeyboardInterrupt\u001b[0m                         Traceback (most recent call last)",
      "Cell \u001b[1;32mIn[26], line 4\u001b[0m\n\u001b[0;32m      1\u001b[0m num_epochs \u001b[38;5;241m=\u001b[39m \u001b[38;5;241m200\u001b[39m\n\u001b[0;32m      3\u001b[0m \u001b[38;5;28;01mfor\u001b[39;00m epoch \u001b[38;5;129;01min\u001b[39;00m \u001b[38;5;28mrange\u001b[39m(num_epochs):\n\u001b[1;32m----> 4\u001b[0m     train_loss, train_acc \u001b[38;5;241m=\u001b[39m \u001b[43mtrain_model\u001b[49m\u001b[43m(\u001b[49m\u001b[43m)\u001b[49m\n\u001b[0;32m      5\u001b[0m     test_loss, test_acc \u001b[38;5;241m=\u001b[39m test_model()\n\u001b[0;32m      7\u001b[0m     train_losses\u001b[38;5;241m.\u001b[39mappend(train_loss)\n",
      "Cell \u001b[1;32mIn[25], line 20\u001b[0m, in \u001b[0;36mtrain_model\u001b[1;34m()\u001b[0m\n\u001b[0;32m     17\u001b[0m loss\u001b[38;5;241m.\u001b[39mbackward()\n\u001b[0;32m     18\u001b[0m optimizer\u001b[38;5;241m.\u001b[39mstep()\n\u001b[1;32m---> 20\u001b[0m total_loss \u001b[38;5;241m+\u001b[39m\u001b[38;5;241m=\u001b[39m \u001b[43mloss\u001b[49m\u001b[38;5;241;43m.\u001b[39;49m\u001b[43mitem\u001b[49m\u001b[43m(\u001b[49m\u001b[43m)\u001b[49m\n\u001b[0;32m     21\u001b[0m _, predicted \u001b[38;5;241m=\u001b[39m torch\u001b[38;5;241m.\u001b[39mmax(outputs, \u001b[38;5;241m1\u001b[39m)\n\u001b[0;32m     22\u001b[0m target_classes \u001b[38;5;241m=\u001b[39m torch\u001b[38;5;241m.\u001b[39margmax(targets, dim\u001b[38;5;241m=\u001b[39m\u001b[38;5;241m1\u001b[39m)\n",
      "\u001b[1;31mKeyboardInterrupt\u001b[0m: "
     ]
    }
   ],
   "source": [
    "num_epochs = 200\n",
    "\n",
    "for epoch in range(num_epochs):\n",
    "    train_loss, train_acc = train_model()\n",
    "    test_loss, test_acc = test_model()\n",
    "    \n",
    "    train_losses.append(train_loss)\n",
    "    train_accuracies.append(train_acc)\n",
    "    test_losses.append(test_loss)\n",
    "    test_accuracies.append(test_acc)\n",
    "    print(f'Epoch {epoch}, Train Loss: {train_loss:.4f}, Train Acc: {(100*train_acc):.4f}, Test Loss: {test_loss:.4f}, Test Acc: {(100*test_acc):.4f}')\n",
    "    scheduler.step()"
   ]
  },
  {
   "cell_type": "code",
   "execution_count": 27,
   "metadata": {},
   "outputs": [
    {
     "data": {
      "image/png": "[encoded data removed]",
      "text/plain": [
       "<Figure size 1200x500 with 2 Axes>"
      ]
     },
     "metadata": {},
     "output_type": "display_data"
    }
   ],
   "source": [
    "# Plot learning curves\n",
    "plt.figure(figsize=(12, 5))\n",
    "\n",
    "# Plot training and test loss\n",
    "plt.subplot(1, 2, 1)\n",
    "plt.plot(train_losses, label='Train Loss')\n",
    "plt.plot(test_losses, label='Test Loss')\n",
    "plt.xlabel('Epoch')\n",
    "plt.ylabel('Loss')\n",
    "plt.title('Loss Curve')\n",
    "plt.legend()\n",
    "\n",
    "# Plot training and test accuracy\n",
    "plt.subplot(1, 2, 2)\n",
    "plt.plot(train_accuracies, label='Train Accuracy')\n",
    "plt.plot(test_accuracies, label='Test Accuracy')\n",
    "plt.xlabel('Epoch')\n",
    "plt.ylabel('Accuracy')\n",
    "plt.title('Accuracy Curve')\n",
    "plt.legend()\n",
    "\n",
    "plt.show()"
   ]
  }
 ],
 "metadata": {
  "kernelspec": {
   "display_name": "ais_env",
   "language": "python",
   "name": "python3"
  },
  "language_info": {
   "codemirror_mode": {
    "name": "ipython",
    "version": 3
   },
   "file_extension": ".py",
   "mimetype": "text/x-python",
   "name": "python",
   "nbconvert_exporter": "python",
   "pygments_lexer": "ipython3",
   "version": "3.11.8"
  }
 },
 "nbformat": 4,
 "nbformat_minor": 2
}
