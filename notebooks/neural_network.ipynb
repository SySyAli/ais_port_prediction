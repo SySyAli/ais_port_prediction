{
 "cells": [
  {
   "cell_type": "code",
   "execution_count": 93,
   "metadata": {},
   "outputs": [],
   "source": [
    "import torch\n",
    "import torch.nn as nn\n",
    "import torch.optim as optim\n",
    "from torch.utils.data import DataLoader, TensorDataset\n",
    "\n",
    "import pandas as pd\n",
    "import numpy as np\n",
    "import matplotlib.pyplot as plt\n",
    "from sklearn.preprocessing import LabelEncoder, MinMaxScaler, LabelBinarizer\n",
    "from sklearn.model_selection import train_test_split"
   ]
  },
  {
   "cell_type": "code",
   "execution_count": 94,
   "metadata": {},
   "outputs": [
    {
     "name": "stdout",
     "output_type": "stream",
     "text": [
      "Using device: cuda\n"
     ]
    }
   ],
   "source": [
    "# check device\n",
    "device = 'cuda' if torch.cuda.is_available() else 'cpu'\n",
    "print(f\"Using device: {device}\")"
   ]
  },
  {
   "cell_type": "code",
   "execution_count": 95,
   "metadata": {},
   "outputs": [],
   "source": [
    "# Load your data\n",
    "df = pd.read_csv('../data/cleaned/cleaned_vessel_calls.csv')"
   ]
  },
  {
   "cell_type": "code",
   "execution_count": 96,
   "metadata": {},
   "outputs": [],
   "source": [
    "# Preprocess the dataframe\n",
    "df[\"arrivalDate\"] = pd.to_datetime(df[\"arrivalDate\"])\n",
    "df[\"sailingDate\"] = pd.to_datetime(df[\"sailingDate\"])\n",
    "df[\"duration\"] = (df[\"sailingDate\"] - df[\"arrivalDate\"]) / pd.Timedelta(days=1)\n",
    "df[\"month\"] = df[\"arrivalDate\"].dt.month\n",
    "df = df.dropna()"
   ]
  },
  {
   "cell_type": "code",
   "execution_count": 97,
   "metadata": {},
   "outputs": [],
   "source": [
    "# cap any outliers\n",
    "cap = df['duration'].quantile(.99)\n",
    "df['capped_duration'] = df['duration'].apply(lambda x: min(x, cap))"
   ]
  },
  {
   "cell_type": "code",
   "execution_count": 98,
   "metadata": {},
   "outputs": [],
   "source": [
    "# Sort and filter data\n",
    "df.sort_values(by=[\"IMO\", \"arrivalDate\"], inplace=True)\n",
    "df['next_unlocode'] = df.groupby('IMO')['place.unlocode'].shift(-1)\n",
    "df['is_last_imo'] = df['IMO'] != df['IMO'].shift(-1)\n",
    "df = df[~df[\"is_last_imo\"]]\n",
    "df = df[df[\"Event_Type\"] != \"ARRIVAL\"]"
   ]
  },
  {
   "cell_type": "code",
   "execution_count": 99,
   "metadata": {},
   "outputs": [],
   "source": [
    "# Drop unnecessary columns\n",
    "df = df.drop(columns=[\"is_last_imo\", \"Event_Type\", \"Timestamp\", \"vessel.vesselName\", \"IMO\", \"arrivalDate\", \"sailingDate\", \"duration\"])\n",
    "\n",
    "# Rename columns for consistency\n",
    "df = df.rename(columns={'place.unlocode': 'current_unlocode', 'place.placeName': 'port_name', 'vessel.vesselType': 'vessel_type', 'place.placeType': 'place_type', 'place.countryName': 'country_name'})"
   ]
  },
  {
   "cell_type": "code",
   "execution_count": 100,
   "metadata": {},
   "outputs": [],
   "source": [
    "# Encode categorical features\n",
    "label_encoders = {}\n",
    "for column in ['port_name', 'country_name', 'vessel_type', 'place_type']:\n",
    "    le = LabelEncoder()\n",
    "    df[column] = le.fit_transform(df[column].astype(str))\n",
    "    label_encoders[column] = le"
   ]
  },
  {
   "cell_type": "code",
   "execution_count": 101,
   "metadata": {},
   "outputs": [],
   "source": [
    "# One-hot encode the port_unlocode feature\n",
    "lb_in = LabelBinarizer(sparse_output=False)\n",
    "unlocode_onehot = lb_in.fit_transform(df[['current_unlocode']])\n",
    "df_unlocode_onehot = pd.DataFrame(unlocode_onehot, columns=lb_in.classes_)"
   ]
  },
  {
   "cell_type": "code",
   "execution_count": 102,
   "metadata": {},
   "outputs": [],
   "source": [
    "lb_y = LabelBinarizer(sparse_output=False)\n",
    "y_onehot = lb_y.fit_transform(df[['next_unlocode']])"
   ]
  },
  {
   "cell_type": "code",
   "execution_count": 103,
   "metadata": {},
   "outputs": [],
   "source": [
    "y_onehot_df = pd.DataFrame(y_onehot, columns=lb_y.classes_)"
   ]
  },
  {
   "cell_type": "code",
   "execution_count": 104,
   "metadata": {},
   "outputs": [
    {
     "data": {
      "text/html": [
       "<div>\n",
       "<style scoped>\n",
       "    .dataframe tbody tr th:only-of-type {\n",
       "        vertical-align: middle;\n",
       "    }\n",
       "\n",
       "    .dataframe tbody tr th {\n",
       "        vertical-align: top;\n",
       "    }\n",
       "\n",
       "    .dataframe thead th {\n",
       "        text-align: right;\n",
       "    }\n",
       "</style>\n",
       "<table border=\"1\" class=\"dataframe\">\n",
       "  <thead>\n",
       "    <tr style=\"text-align: right;\">\n",
       "      <th></th>\n",
       "      <th>port_name</th>\n",
       "      <th>current_unlocode</th>\n",
       "      <th>place_type</th>\n",
       "      <th>country_name</th>\n",
       "      <th>vessel_type</th>\n",
       "      <th>month</th>\n",
       "      <th>capped_duration</th>\n",
       "      <th>next_unlocode</th>\n",
       "    </tr>\n",
       "  </thead>\n",
       "  <tbody>\n",
       "    <tr>\n",
       "      <th>314761</th>\n",
       "      <td>840</td>\n",
       "      <td>USLAX</td>\n",
       "      <td>1</td>\n",
       "      <td>163</td>\n",
       "      <td>4</td>\n",
       "      <td>1</td>\n",
       "      <td>7.579803</td>\n",
       "      <td>CNJGY</td>\n",
       "    </tr>\n",
       "    <tr>\n",
       "      <th>314763</th>\n",
       "      <td>658</td>\n",
       "      <td>CNJGY</td>\n",
       "      <td>1</td>\n",
       "      <td>104</td>\n",
       "      <td>4</td>\n",
       "      <td>2</td>\n",
       "      <td>1.484931</td>\n",
       "      <td>CNTXG</td>\n",
       "    </tr>\n",
       "    <tr>\n",
       "      <th>314765</th>\n",
       "      <td>1583</td>\n",
       "      <td>CNTXG</td>\n",
       "      <td>1</td>\n",
       "      <td>104</td>\n",
       "      <td>4</td>\n",
       "      <td>3</td>\n",
       "      <td>0.854514</td>\n",
       "      <td>CNQAW</td>\n",
       "    </tr>\n",
       "    <tr>\n",
       "      <th>314767</th>\n",
       "      <td>1279</td>\n",
       "      <td>CNQAW</td>\n",
       "      <td>2</td>\n",
       "      <td>104</td>\n",
       "      <td>4</td>\n",
       "      <td>3</td>\n",
       "      <td>0.613380</td>\n",
       "      <td>CNMSN</td>\n",
       "    </tr>\n",
       "    <tr>\n",
       "      <th>314769</th>\n",
       "      <td>908</td>\n",
       "      <td>CNMSN</td>\n",
       "      <td>2</td>\n",
       "      <td>104</td>\n",
       "      <td>4</td>\n",
       "      <td>3</td>\n",
       "      <td>1.021157</td>\n",
       "      <td>CNNSA</td>\n",
       "    </tr>\n",
       "    <tr>\n",
       "      <th>...</th>\n",
       "      <td>...</td>\n",
       "      <td>...</td>\n",
       "      <td>...</td>\n",
       "      <td>...</td>\n",
       "      <td>...</td>\n",
       "      <td>...</td>\n",
       "      <td>...</td>\n",
       "      <td>...</td>\n",
       "    </tr>\n",
       "    <tr>\n",
       "      <th>12569</th>\n",
       "      <td>1189</td>\n",
       "      <td>MYPKG</td>\n",
       "      <td>1</td>\n",
       "      <td>81</td>\n",
       "      <td>9</td>\n",
       "      <td>9</td>\n",
       "      <td>0.871701</td>\n",
       "      <td>INMAA</td>\n",
       "    </tr>\n",
       "    <tr>\n",
       "      <th>12571</th>\n",
       "      <td>290</td>\n",
       "      <td>INMAA</td>\n",
       "      <td>1</td>\n",
       "      <td>66</td>\n",
       "      <td>9</td>\n",
       "      <td>9</td>\n",
       "      <td>1.138021</td>\n",
       "      <td>BDCGP</td>\n",
       "    </tr>\n",
       "    <tr>\n",
       "      <th>12573</th>\n",
       "      <td>298</td>\n",
       "      <td>BDCGP</td>\n",
       "      <td>1</td>\n",
       "      <td>13</td>\n",
       "      <td>9</td>\n",
       "      <td>9</td>\n",
       "      <td>1.997604</td>\n",
       "      <td>THLCH</td>\n",
       "    </tr>\n",
       "    <tr>\n",
       "      <th>12575</th>\n",
       "      <td>789</td>\n",
       "      <td>THLCH</td>\n",
       "      <td>1</td>\n",
       "      <td>150</td>\n",
       "      <td>9</td>\n",
       "      <td>9</td>\n",
       "      <td>0.713912</td>\n",
       "      <td>SGSIN</td>\n",
       "    </tr>\n",
       "    <tr>\n",
       "      <th>12577</th>\n",
       "      <td>1470</td>\n",
       "      <td>SGSIN</td>\n",
       "      <td>1</td>\n",
       "      <td>123</td>\n",
       "      <td>9</td>\n",
       "      <td>9</td>\n",
       "      <td>0.272824</td>\n",
       "      <td>MYPKG</td>\n",
       "    </tr>\n",
       "  </tbody>\n",
       "</table>\n",
       "<p>170752 rows × 8 columns</p>\n",
       "</div>"
      ],
      "text/plain": [
       "        port_name current_unlocode  place_type  country_name  vessel_type  \\\n",
       "314761        840            USLAX           1           163            4   \n",
       "314763        658            CNJGY           1           104            4   \n",
       "314765       1583            CNTXG           1           104            4   \n",
       "314767       1279            CNQAW           2           104            4   \n",
       "314769        908            CNMSN           2           104            4   \n",
       "...           ...              ...         ...           ...          ...   \n",
       "12569        1189            MYPKG           1            81            9   \n",
       "12571         290            INMAA           1            66            9   \n",
       "12573         298            BDCGP           1            13            9   \n",
       "12575         789            THLCH           1           150            9   \n",
       "12577        1470            SGSIN           1           123            9   \n",
       "\n",
       "        month  capped_duration next_unlocode  \n",
       "314761      1         7.579803         CNJGY  \n",
       "314763      2         1.484931         CNTXG  \n",
       "314765      3         0.854514         CNQAW  \n",
       "314767      3         0.613380         CNMSN  \n",
       "314769      3         1.021157         CNNSA  \n",
       "...       ...              ...           ...  \n",
       "12569       9         0.871701         INMAA  \n",
       "12571       9         1.138021         BDCGP  \n",
       "12573       9         1.997604         THLCH  \n",
       "12575       9         0.713912         SGSIN  \n",
       "12577       9         0.272824         MYPKG  \n",
       "\n",
       "[170752 rows x 8 columns]"
      ]
     },
     "execution_count": 104,
     "metadata": {},
     "output_type": "execute_result"
    }
   ],
   "source": [
    "df"
   ]
  },
  {
   "cell_type": "code",
   "execution_count": 105,
   "metadata": {},
   "outputs": [],
   "source": [
    "# Add the one-hot encoded ports back to the dataframe\n",
    "df = pd.concat([df.reset_index(drop=True), df_unlocode_onehot], axis=1)\n",
    "df = df.drop(columns=['current_unlocode'])"
   ]
  },
  {
   "cell_type": "code",
   "execution_count": 106,
   "metadata": {},
   "outputs": [],
   "source": [
    "# Prepare features\n",
    "X = df.drop(columns=['next_unlocode'])\n",
    "y = y_onehot"
   ]
  },
  {
   "cell_type": "code",
   "execution_count": 107,
   "metadata": {},
   "outputs": [],
   "source": [
    "# Split the data\n",
    "X_train, X_test, y_train, y_test = train_test_split(X, y, test_size=0.2, random_state=42)"
   ]
  },
  {
   "cell_type": "code",
   "execution_count": 108,
   "metadata": {},
   "outputs": [],
   "source": [
    "# scale the data\n",
    "scaler = MinMaxScaler()\n",
    "\n",
    "X_train = scaler.fit_transform(X_train[['capped_duration', 'month', 'port_name', 'country_name', 'vessel_type', 'place_type']])\n",
    "X_test = scaler.transform(X_test[['capped_duration', 'month', 'port_name', 'country_name', 'vessel_type', 'place_type']])"
   ]
  },
  {
   "cell_type": "code",
   "execution_count": 109,
   "metadata": {},
   "outputs": [
    {
     "data": {
      "text/plain": [
       "(170752, 1771)"
      ]
     },
     "execution_count": 109,
     "metadata": {},
     "output_type": "execute_result"
    }
   ],
   "source": [
    "y_onehot.shape"
   ]
  },
  {
   "cell_type": "code",
   "execution_count": 110,
   "metadata": {},
   "outputs": [],
   "source": [
    "# Convert data to PyTorch tensors\n",
    "X_train_tensor = torch.tensor(X_train, dtype=torch.float32)\n",
    "y_train_tensor = torch.tensor(y_train, dtype=torch.float32)\n",
    "X_test_tensor = torch.tensor(X_test, dtype=torch.float32)\n",
    "y_test_tensor = torch.tensor(y_test, dtype=torch.float32)\n",
    "\n",
    "X_train_tensor = X_train_tensor.to(device)\n",
    "y_train_tensor = y_train_tensor.to(device)\n",
    "X_test_tensor = X_test_tensor.to(device)\n",
    "y_test_tensor = y_test_tensor.to(device)"
   ]
  },
  {
   "cell_type": "code",
   "execution_count": 111,
   "metadata": {},
   "outputs": [],
   "source": [
    "# Create DataLoader\n",
    "train_dataset = TensorDataset(X_train_tensor, y_train_tensor)\n",
    "test_dataset = TensorDataset(X_test_tensor, y_test_tensor)\n",
    "batch_size = 64\n",
    "train_loader = DataLoader(train_dataset, batch_size=batch_size, shuffle=True)\n",
    "test_loader = DataLoader(test_dataset, batch_size=batch_size, shuffle=True)"
   ]
  },
  {
   "cell_type": "code",
   "execution_count": 112,
   "metadata": {},
   "outputs": [],
   "source": [
    "class PortPredictor(nn.Module):\n",
    "    def __init__(self, input_size, hidden_size, num_classes, dropout_rate=0.5):\n",
    "        super(PortPredictor, self).__init__()\n",
    "        self.fc1 = nn.Linear(input_size, hidden_size)\n",
    "        self.fc2 = nn.Linear(hidden_size, hidden_size)\n",
    "        self.fc3 = nn.Linear(hidden_size, num_classes)\n",
    "        self.relu = nn.ReLU()\n",
    "\n",
    "    def forward(self, x):\n",
    "        x = self.relu(self.fc1(x))\n",
    "        x = self.relu(self.fc2(x))\n",
    "        x = self.fc3(x)\n",
    "        return x\n",
    "    \n",
    "input_size = X_train_tensor.shape[1]\n",
    "num_classes = y_train_tensor.shape[1]\n",
    "hidden_size = 128\n",
    "\n",
    "# TODO: Play around with the loss function and learning rate - you want it to fluctuate. Goal is to minimize the loss\n",
    "model = PortPredictor(input_size, hidden_size, num_classes).to(device)\n",
    "criterion = nn.CrossEntropyLoss() \n",
    "optimizer = optim.Adam(model.parameters(), lr=0.001)"
   ]
  },
  {
   "cell_type": "code",
   "execution_count": 113,
   "metadata": {},
   "outputs": [],
   "source": [
    "# Lists to store loss and accuracy\n",
    "train_losses = []\n",
    "train_accuracies = []\n",
    "test_losses = []\n",
    "test_accuracies = []\n",
    "\n",
    "def train_model():\n",
    "    model.train()\n",
    "    total_loss = 0\n",
    "    correct = 0\n",
    "    total = 0\n",
    "    for inputs, targets in train_loader:\n",
    "        inputs, targets = inputs.to(device), targets.to(device)\n",
    "        optimizer.zero_grad()\n",
    "        outputs = model(inputs)\n",
    "        loss = criterion(outputs, torch.argmax(targets, dim=1))\n",
    "        loss.backward()\n",
    "        optimizer.step()\n",
    "\n",
    "        total_loss += loss.item()\n",
    "        _, predicted = torch.max(outputs, 1)\n",
    "        target_classes = torch.argmax(targets, dim=1)\n",
    "        correct += (predicted == target_classes).sum().item()\n",
    "        total += target_classes.size(0)\n",
    "        \n",
    "    accuracy = correct / total\n",
    "    return total_loss / len(train_loader), accuracy\n",
    "\n",
    "def test_model():\n",
    "    model.eval()\n",
    "    total_loss = 0\n",
    "    correct = 0\n",
    "    total = 0\n",
    "    with torch.no_grad():\n",
    "        for inputs, targets in test_loader:\n",
    "            inputs, targets = inputs.to(device), targets.to(device)\n",
    "            outputs = model(inputs)\n",
    "            loss = criterion(outputs, torch.argmax(targets, dim=1))\n",
    "            \n",
    "            total_loss += loss.item()\n",
    "            _, predicted = torch.max(outputs, 1)\n",
    "            target_classes = torch.argmax(targets, dim=1)\n",
    "            correct += (predicted == target_classes).sum().item()\n",
    "            total += target_classes.size(0)\n",
    "            \n",
    "    accuracy = correct / total\n",
    "    return total_loss / len(test_loader), accuracy"
   ]
  },
  {
   "cell_type": "code",
   "execution_count": 114,
   "metadata": {},
   "outputs": [
    {
     "name": "stdout",
     "output_type": "stream",
     "text": [
      "Epoch 0, Train Loss: 5.3923, Train Acc: 0.0639, Test Loss: 5.1050, Test Acc: 0.0701\n",
      "Epoch 1, Train Loss: 4.9371, Train Acc: 0.0847, Test Loss: 4.8491, Test Acc: 0.1016\n",
      "Epoch 2, Train Loss: 4.6972, Train Acc: 0.1040, Test Loss: 4.7062, Test Acc: 0.1083\n",
      "Epoch 3, Train Loss: 4.5415, Train Acc: 0.1156, Test Loss: 4.6071, Test Acc: 0.1205\n",
      "Epoch 4, Train Loss: 4.4267, Train Acc: 0.1235, Test Loss: 4.5545, Test Acc: 0.1257\n",
      "Epoch 5, Train Loss: 4.3355, Train Acc: 0.1299, Test Loss: 4.5324, Test Acc: 0.1347\n",
      "Epoch 6, Train Loss: 4.2611, Train Acc: 0.1369, Test Loss: 4.5152, Test Acc: 0.1376\n",
      "Epoch 7, Train Loss: 4.2007, Train Acc: 0.1417, Test Loss: 4.5171, Test Acc: 0.1411\n",
      "Epoch 8, Train Loss: 4.1503, Train Acc: 0.1471, Test Loss: 4.5170, Test Acc: 0.1467\n",
      "Epoch 9, Train Loss: 4.1069, Train Acc: 0.1507, Test Loss: 4.5205, Test Acc: 0.1542\n",
      "Epoch 10, Train Loss: 4.0681, Train Acc: 0.1540, Test Loss: 4.5287, Test Acc: 0.1564\n",
      "Epoch 11, Train Loss: 4.0337, Train Acc: 0.1598, Test Loss: 4.5535, Test Acc: 0.1569\n",
      "Epoch 12, Train Loss: 4.0045, Train Acc: 0.1609, Test Loss: 4.5684, Test Acc: 0.1584\n",
      "Epoch 13, Train Loss: 3.9767, Train Acc: 0.1637, Test Loss: 4.5708, Test Acc: 0.1643\n",
      "Epoch 14, Train Loss: 3.9505, Train Acc: 0.1667, Test Loss: 4.5992, Test Acc: 0.1622\n",
      "Epoch 15, Train Loss: 3.9281, Train Acc: 0.1691, Test Loss: 4.5876, Test Acc: 0.1678\n",
      "Epoch 16, Train Loss: 3.9080, Train Acc: 0.1707, Test Loss: 4.6060, Test Acc: 0.1679\n",
      "Epoch 17, Train Loss: 3.8881, Train Acc: 0.1727, Test Loss: 4.6292, Test Acc: 0.1688\n",
      "Epoch 18, Train Loss: 3.8696, Train Acc: 0.1748, Test Loss: 4.6478, Test Acc: 0.1695\n",
      "Epoch 19, Train Loss: 3.8532, Train Acc: 0.1756, Test Loss: 4.6752, Test Acc: 0.1710\n",
      "Epoch 20, Train Loss: 3.8364, Train Acc: 0.1774, Test Loss: 4.6714, Test Acc: 0.1672\n",
      "Epoch 21, Train Loss: 3.8223, Train Acc: 0.1775, Test Loss: 4.6970, Test Acc: 0.1726\n",
      "Epoch 22, Train Loss: 3.8082, Train Acc: 0.1788, Test Loss: 4.6811, Test Acc: 0.1741\n",
      "Epoch 23, Train Loss: 3.7952, Train Acc: 0.1808, Test Loss: 4.6911, Test Acc: 0.1757\n",
      "Epoch 24, Train Loss: 3.7829, Train Acc: 0.1819, Test Loss: 4.7032, Test Acc: 0.1773\n",
      "Epoch 25, Train Loss: 3.7711, Train Acc: 0.1825, Test Loss: 4.7391, Test Acc: 0.1751\n",
      "Epoch 26, Train Loss: 3.7591, Train Acc: 0.1846, Test Loss: 4.7476, Test Acc: 0.1757\n",
      "Epoch 27, Train Loss: 3.7485, Train Acc: 0.1845, Test Loss: 4.7362, Test Acc: 0.1763\n",
      "Epoch 28, Train Loss: 3.7390, Train Acc: 0.1855, Test Loss: 4.7462, Test Acc: 0.1782\n",
      "Epoch 29, Train Loss: 3.7295, Train Acc: 0.1868, Test Loss: 4.7601, Test Acc: 0.1801\n",
      "Epoch 30, Train Loss: 3.7200, Train Acc: 0.1883, Test Loss: 4.7872, Test Acc: 0.1809\n",
      "Epoch 31, Train Loss: 3.7105, Train Acc: 0.1881, Test Loss: 4.7760, Test Acc: 0.1799\n",
      "Epoch 32, Train Loss: 3.7017, Train Acc: 0.1880, Test Loss: 4.8041, Test Acc: 0.1837\n",
      "Epoch 33, Train Loss: 3.6942, Train Acc: 0.1899, Test Loss: 4.7974, Test Acc: 0.1810\n",
      "Epoch 34, Train Loss: 3.6862, Train Acc: 0.1905, Test Loss: 4.8092, Test Acc: 0.1787\n",
      "Epoch 35, Train Loss: 3.6783, Train Acc: 0.1914, Test Loss: 4.8308, Test Acc: 0.1828\n",
      "Epoch 36, Train Loss: 3.6714, Train Acc: 0.1928, Test Loss: 4.8430, Test Acc: 0.1846\n",
      "Epoch 37, Train Loss: 3.6647, Train Acc: 0.1916, Test Loss: 4.8482, Test Acc: 0.1838\n",
      "Epoch 38, Train Loss: 3.6577, Train Acc: 0.1940, Test Loss: 4.8731, Test Acc: 0.1829\n",
      "Epoch 39, Train Loss: 3.6508, Train Acc: 0.1943, Test Loss: 4.9049, Test Acc: 0.1852\n",
      "Epoch 40, Train Loss: 3.6453, Train Acc: 0.1944, Test Loss: 4.8755, Test Acc: 0.1811\n",
      "Epoch 41, Train Loss: 3.6390, Train Acc: 0.1955, Test Loss: 4.9138, Test Acc: 0.1818\n",
      "Epoch 42, Train Loss: 3.6327, Train Acc: 0.1961, Test Loss: 4.9237, Test Acc: 0.1856\n",
      "Epoch 43, Train Loss: 3.6263, Train Acc: 0.1969, Test Loss: 4.9050, Test Acc: 0.1844\n",
      "Epoch 44, Train Loss: 3.6220, Train Acc: 0.1966, Test Loss: 4.9375, Test Acc: 0.1874\n",
      "Epoch 45, Train Loss: 3.6160, Train Acc: 0.1998, Test Loss: 4.9223, Test Acc: 0.1889\n",
      "Epoch 46, Train Loss: 3.6114, Train Acc: 0.1992, Test Loss: 4.8969, Test Acc: 0.1895\n",
      "Epoch 47, Train Loss: 3.6064, Train Acc: 0.1995, Test Loss: 4.9384, Test Acc: 0.1868\n",
      "Epoch 48, Train Loss: 3.6015, Train Acc: 0.1997, Test Loss: 4.9537, Test Acc: 0.1875\n",
      "Epoch 49, Train Loss: 3.5970, Train Acc: 0.2004, Test Loss: 4.9616, Test Acc: 0.1904\n"
     ]
    }
   ],
   "source": [
    "num_epochs = 50\n",
    "\n",
    "for epoch in range(num_epochs):\n",
    "    train_loss, train_acc = train_model()\n",
    "    test_loss, test_acc = test_model()\n",
    "    \n",
    "    train_losses.append(train_loss)\n",
    "    train_accuracies.append(train_acc)\n",
    "    test_losses.append(test_loss)\n",
    "    test_accuracies.append(test_acc)\n",
    "    print(f'Epoch {epoch}, Train Loss: {train_loss:.4f}, Train Acc: {train_acc:.4f}, Test Loss: {test_loss:.4f}, Test Acc: {test_acc:.4f}')"
   ]
  },
  {
   "cell_type": "code",
   "execution_count": 115,
   "metadata": {},
   "outputs": [
    {
     "data": {
      "image/png": "[encoded data removed]",
      "text/plain": [
       "<Figure size 1200x500 with 2 Axes>"
      ]
     },
     "metadata": {},
     "output_type": "display_data"
    }
   ],
   "source": [
    "# Plot learning curves\n",
    "plt.figure(figsize=(12, 5))\n",
    "\n",
    "# Plot training and test loss\n",
    "plt.subplot(1, 2, 1)\n",
    "plt.plot(train_losses, label='Train Loss')\n",
    "plt.plot(test_losses, label='Test Loss')\n",
    "plt.xlabel('Epoch')\n",
    "plt.ylabel('Loss')\n",
    "plt.title('Loss Curve')\n",
    "plt.legend()\n",
    "\n",
    "# Plot training and test accuracy\n",
    "plt.subplot(1, 2, 2)\n",
    "plt.plot(train_accuracies, label='Train Accuracy')\n",
    "plt.plot(test_accuracies, label='Test Accuracy')\n",
    "plt.xlabel('Epoch')\n",
    "plt.ylabel('Accuracy')\n",
    "plt.title('Accuracy Curve')\n",
    "plt.legend()\n",
    "\n",
    "plt.show()"
   ]
  }
 ],
 "metadata": {
  "kernelspec": {
   "display_name": "ais_env",
   "language": "python",
   "name": "python3"
  },
  "language_info": {
   "codemirror_mode": {
    "name": "ipython",
    "version": 3
   },
   "file_extension": ".py",
   "mimetype": "text/x-python",
   "name": "python",
   "nbconvert_exporter": "python",
   "pygments_lexer": "ipython3",
   "version": "3.11.8"
  }
 },
 "nbformat": 4,
 "nbformat_minor": 2
}
