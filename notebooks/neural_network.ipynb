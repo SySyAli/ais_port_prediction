{
 "cells": [
  {
   "cell_type": "code",
   "execution_count": 1,
   "metadata": {},
   "outputs": [],
   "source": [
    "import torch\n",
    "import torch.nn as nn\n",
    "import torch.optim as optim\n",
    "from torch.utils.data import DataLoader, TensorDataset\n",
    "\n",
    "import pandas as pd\n",
    "import numpy as np\n",
    "import matplotlib.pyplot as plt\n",
    "from sklearn.preprocessing import LabelEncoder, MinMaxScaler, LabelBinarizer\n",
    "from sklearn.model_selection import train_test_split"
   ]
  },
  {
   "cell_type": "code",
   "execution_count": 2,
   "metadata": {},
   "outputs": [
    {
     "name": "stdout",
     "output_type": "stream",
     "text": [
      "Using device: cuda:0\n"
     ]
    }
   ],
   "source": [
    "# check device\n",
    "device = 'cuda:0' if torch.cuda.is_available() else 'cpu'\n",
    "print(f\"Using device: {device}\")"
   ]
  },
  {
   "cell_type": "code",
   "execution_count": 3,
   "metadata": {},
   "outputs": [],
   "source": [
    "# Load your data\n",
    "df = pd.read_csv('../data/cleaned/cleaned_vessel_calls.csv')"
   ]
  },
  {
   "cell_type": "code",
   "execution_count": 4,
   "metadata": {},
   "outputs": [],
   "source": [
    "# Preprocess the dataframe\n",
    "df[\"arrivalDate\"] = pd.to_datetime(df[\"arrivalDate\"])\n",
    "df[\"sailingDate\"] = pd.to_datetime(df[\"sailingDate\"])\n",
    "df[\"duration\"] = (df[\"sailingDate\"] - df[\"arrivalDate\"]) / pd.Timedelta(days=1)\n",
    "df[\"month\"] = df[\"arrivalDate\"].dt.month\n",
    "df = df.dropna()"
   ]
  },
  {
   "cell_type": "code",
   "execution_count": 5,
   "metadata": {},
   "outputs": [],
   "source": [
    "# cap any outliers\n",
    "cap = df['duration'].quantile(.99)\n",
    "df['capped_duration'] = df['duration'].apply(lambda x: min(x, cap))"
   ]
  },
  {
   "cell_type": "code",
   "execution_count": 6,
   "metadata": {},
   "outputs": [],
   "source": [
    "# Sort and filter data\n",
    "df.sort_values(by=[\"IMO\", \"arrivalDate\"], inplace=True)\n",
    "df['next_unlocode'] = df.groupby('IMO')['place.unlocode'].shift(-1)\n",
    "df['is_last_imo'] = df['IMO'] != df['IMO'].shift(-1)\n",
    "df = df[~df[\"is_last_imo\"]]\n",
    "df = df[df[\"Event_Type\"] != \"ARRIVAL\"]"
   ]
  },
  {
   "cell_type": "code",
   "execution_count": 7,
   "metadata": {},
   "outputs": [],
   "source": [
    "# Drop unnecessary columns\n",
    "df = df.drop(columns=[\"is_last_imo\", \"Event_Type\", \"Timestamp\", \"vessel.vesselName\", \"IMO\", \"arrivalDate\", \"sailingDate\", \"duration\"])\n",
    "\n",
    "# Rename columns for consistency\n",
    "df = df.rename(columns={'place.unlocode': 'current_unlocode', 'place.placeName': 'port_name', 'vessel.vesselType': 'vessel_type', 'place.placeType': 'place_type', 'place.countryName': 'country_name'})"
   ]
  },
  {
   "cell_type": "code",
   "execution_count": 8,
   "metadata": {},
   "outputs": [],
   "source": [
    "# Encode categorical features\n",
    "label_encoders = {}\n",
    "for column in ['port_name', 'country_name', 'vessel_type', 'place_type']:\n",
    "    le = LabelEncoder()\n",
    "    df[column] = le.fit_transform(df[column].astype(str))\n",
    "    label_encoders[column] = le"
   ]
  },
  {
   "cell_type": "code",
   "execution_count": 9,
   "metadata": {},
   "outputs": [],
   "source": [
    "# One-hot encode the port_unlocode feature\n",
    "lb_in = LabelBinarizer(sparse_output=False)\n",
    "unlocode_onehot = lb_in.fit_transform(df[['current_unlocode']])\n",
    "df_unlocode_onehot = pd.DataFrame(unlocode_onehot, columns=lb_in.classes_)"
   ]
  },
  {
   "cell_type": "code",
   "execution_count": 10,
   "metadata": {},
   "outputs": [],
   "source": [
    "lb_y = LabelBinarizer(sparse_output=False)\n",
    "y_onehot = lb_y.fit_transform(df[['next_unlocode']])"
   ]
  },
  {
   "cell_type": "code",
   "execution_count": 11,
   "metadata": {},
   "outputs": [],
   "source": [
    "y_onehot_df = pd.DataFrame(y_onehot, columns=lb_y.classes_)"
   ]
  },
  {
   "cell_type": "code",
   "execution_count": 12,
   "metadata": {},
   "outputs": [
    {
     "data": {
      "text/html": [
       "<div>\n",
       "<style scoped>\n",
       "    .dataframe tbody tr th:only-of-type {\n",
       "        vertical-align: middle;\n",
       "    }\n",
       "\n",
       "    .dataframe tbody tr th {\n",
       "        vertical-align: top;\n",
       "    }\n",
       "\n",
       "    .dataframe thead th {\n",
       "        text-align: right;\n",
       "    }\n",
       "</style>\n",
       "<table border=\"1\" class=\"dataframe\">\n",
       "  <thead>\n",
       "    <tr style=\"text-align: right;\">\n",
       "      <th></th>\n",
       "      <th>port_name</th>\n",
       "      <th>current_unlocode</th>\n",
       "      <th>place_type</th>\n",
       "      <th>country_name</th>\n",
       "      <th>vessel_type</th>\n",
       "      <th>month</th>\n",
       "      <th>capped_duration</th>\n",
       "      <th>next_unlocode</th>\n",
       "    </tr>\n",
       "  </thead>\n",
       "  <tbody>\n",
       "    <tr>\n",
       "      <th>314761</th>\n",
       "      <td>840</td>\n",
       "      <td>USLAX</td>\n",
       "      <td>1</td>\n",
       "      <td>163</td>\n",
       "      <td>4</td>\n",
       "      <td>1</td>\n",
       "      <td>7.579803</td>\n",
       "      <td>CNJGY</td>\n",
       "    </tr>\n",
       "    <tr>\n",
       "      <th>314763</th>\n",
       "      <td>658</td>\n",
       "      <td>CNJGY</td>\n",
       "      <td>1</td>\n",
       "      <td>104</td>\n",
       "      <td>4</td>\n",
       "      <td>2</td>\n",
       "      <td>1.484931</td>\n",
       "      <td>CNTXG</td>\n",
       "    </tr>\n",
       "    <tr>\n",
       "      <th>314765</th>\n",
       "      <td>1583</td>\n",
       "      <td>CNTXG</td>\n",
       "      <td>1</td>\n",
       "      <td>104</td>\n",
       "      <td>4</td>\n",
       "      <td>3</td>\n",
       "      <td>0.854514</td>\n",
       "      <td>CNQAW</td>\n",
       "    </tr>\n",
       "    <tr>\n",
       "      <th>314767</th>\n",
       "      <td>1279</td>\n",
       "      <td>CNQAW</td>\n",
       "      <td>2</td>\n",
       "      <td>104</td>\n",
       "      <td>4</td>\n",
       "      <td>3</td>\n",
       "      <td>0.613380</td>\n",
       "      <td>CNMSN</td>\n",
       "    </tr>\n",
       "    <tr>\n",
       "      <th>314769</th>\n",
       "      <td>908</td>\n",
       "      <td>CNMSN</td>\n",
       "      <td>2</td>\n",
       "      <td>104</td>\n",
       "      <td>4</td>\n",
       "      <td>3</td>\n",
       "      <td>1.021157</td>\n",
       "      <td>CNNSA</td>\n",
       "    </tr>\n",
       "    <tr>\n",
       "      <th>...</th>\n",
       "      <td>...</td>\n",
       "      <td>...</td>\n",
       "      <td>...</td>\n",
       "      <td>...</td>\n",
       "      <td>...</td>\n",
       "      <td>...</td>\n",
       "      <td>...</td>\n",
       "      <td>...</td>\n",
       "    </tr>\n",
       "    <tr>\n",
       "      <th>12569</th>\n",
       "      <td>1189</td>\n",
       "      <td>MYPKG</td>\n",
       "      <td>1</td>\n",
       "      <td>81</td>\n",
       "      <td>9</td>\n",
       "      <td>9</td>\n",
       "      <td>0.871701</td>\n",
       "      <td>INMAA</td>\n",
       "    </tr>\n",
       "    <tr>\n",
       "      <th>12571</th>\n",
       "      <td>290</td>\n",
       "      <td>INMAA</td>\n",
       "      <td>1</td>\n",
       "      <td>66</td>\n",
       "      <td>9</td>\n",
       "      <td>9</td>\n",
       "      <td>1.138021</td>\n",
       "      <td>BDCGP</td>\n",
       "    </tr>\n",
       "    <tr>\n",
       "      <th>12573</th>\n",
       "      <td>298</td>\n",
       "      <td>BDCGP</td>\n",
       "      <td>1</td>\n",
       "      <td>13</td>\n",
       "      <td>9</td>\n",
       "      <td>9</td>\n",
       "      <td>1.997604</td>\n",
       "      <td>THLCH</td>\n",
       "    </tr>\n",
       "    <tr>\n",
       "      <th>12575</th>\n",
       "      <td>789</td>\n",
       "      <td>THLCH</td>\n",
       "      <td>1</td>\n",
       "      <td>150</td>\n",
       "      <td>9</td>\n",
       "      <td>9</td>\n",
       "      <td>0.713912</td>\n",
       "      <td>SGSIN</td>\n",
       "    </tr>\n",
       "    <tr>\n",
       "      <th>12577</th>\n",
       "      <td>1470</td>\n",
       "      <td>SGSIN</td>\n",
       "      <td>1</td>\n",
       "      <td>123</td>\n",
       "      <td>9</td>\n",
       "      <td>9</td>\n",
       "      <td>0.272824</td>\n",
       "      <td>MYPKG</td>\n",
       "    </tr>\n",
       "  </tbody>\n",
       "</table>\n",
       "<p>170752 rows × 8 columns</p>\n",
       "</div>"
      ],
      "text/plain": [
       "        port_name current_unlocode  place_type  country_name  vessel_type  \\\n",
       "314761        840            USLAX           1           163            4   \n",
       "314763        658            CNJGY           1           104            4   \n",
       "314765       1583            CNTXG           1           104            4   \n",
       "314767       1279            CNQAW           2           104            4   \n",
       "314769        908            CNMSN           2           104            4   \n",
       "...           ...              ...         ...           ...          ...   \n",
       "12569        1189            MYPKG           1            81            9   \n",
       "12571         290            INMAA           1            66            9   \n",
       "12573         298            BDCGP           1            13            9   \n",
       "12575         789            THLCH           1           150            9   \n",
       "12577        1470            SGSIN           1           123            9   \n",
       "\n",
       "        month  capped_duration next_unlocode  \n",
       "314761      1         7.579803         CNJGY  \n",
       "314763      2         1.484931         CNTXG  \n",
       "314765      3         0.854514         CNQAW  \n",
       "314767      3         0.613380         CNMSN  \n",
       "314769      3         1.021157         CNNSA  \n",
       "...       ...              ...           ...  \n",
       "12569       9         0.871701         INMAA  \n",
       "12571       9         1.138021         BDCGP  \n",
       "12573       9         1.997604         THLCH  \n",
       "12575       9         0.713912         SGSIN  \n",
       "12577       9         0.272824         MYPKG  \n",
       "\n",
       "[170752 rows x 8 columns]"
      ]
     },
     "execution_count": 12,
     "metadata": {},
     "output_type": "execute_result"
    }
   ],
   "source": [
    "df"
   ]
  },
  {
   "cell_type": "code",
   "execution_count": 13,
   "metadata": {},
   "outputs": [],
   "source": [
    "# Add the one-hot encoded ports back to the dataframe\n",
    "df = pd.concat([df.reset_index(drop=True), df_unlocode_onehot], axis=1)\n",
    "df = df.drop(columns=['current_unlocode'])"
   ]
  },
  {
   "cell_type": "code",
   "execution_count": 14,
   "metadata": {},
   "outputs": [],
   "source": [
    "# Prepare features\n",
    "X = df.drop(columns=['next_unlocode'])\n",
    "y = y_onehot"
   ]
  },
  {
   "cell_type": "code",
   "execution_count": 15,
   "metadata": {},
   "outputs": [
    {
     "name": "stdout",
     "output_type": "stream",
     "text": [
      "X_train shape: (136601, 1778) y_train shape: (136601, 1771) X_test shape: (34151, 1778) y_test shape: (34151, 1771)\n"
     ]
    }
   ],
   "source": [
    "# Split the data\n",
    "X_train, X_test, y_train, y_test = train_test_split(X, y, test_size=0.2, random_state=42)\n",
    "# Print dimensions after split\n",
    "print(f\"X_train shape: {X_train.shape}\", f\"y_train shape: {y_train.shape}\", f\"X_test shape: {X_test.shape}\", f\"y_test shape: {y_test.shape}\")"
   ]
  },
  {
   "cell_type": "code",
   "execution_count": 16,
   "metadata": {},
   "outputs": [
    {
     "name": "stdout",
     "output_type": "stream",
     "text": [
      "(136601, 6) (136601, 1772)\n",
      "(34151, 6) (34151, 1772)\n",
      "Shapes after MinMax scaling:\n",
      "X_train.shape: (136601, 1778)\n",
      "X_test.shape: (34151, 1778)\n"
     ]
    }
   ],
   "source": [
    "# Specify columns to scale\n",
    "columns_to_scale = ['capped_duration', 'month', 'port_name', 'country_name', 'vessel_type', 'place_type']\n",
    "\n",
    "# Initialize the scaler\n",
    "scaler = MinMaxScaler()\n",
    "\n",
    "# Fit the scaler on the training data\n",
    "X_train_scaled_part = scaler.fit_transform(X_train[columns_to_scale])\n",
    "\n",
    "# Transform the test data\n",
    "X_test_scaled_part = scaler.transform(X_test[columns_to_scale])\n",
    "\n",
    "# Convert the scaled data back to DataFrames\n",
    "X_train_scaled_part = pd.DataFrame(X_train_scaled_part, columns=columns_to_scale, index=X_train.index)\n",
    "X_test_scaled_part = pd.DataFrame(X_test_scaled_part, columns=columns_to_scale, index=X_test.index)\n",
    "\n",
    "# Drop the columns to be scaled from the original DataFrames\n",
    "X_train_unscaled_part = X_train.drop(columns=columns_to_scale)\n",
    "X_test_unscaled_part = X_test.drop(columns=columns_to_scale)\n",
    "\n",
    "print(X_train_scaled_part.shape, X_train_unscaled_part.shape)\n",
    "print(X_test_scaled_part.shape, X_test_unscaled_part.shape)\n",
    "\n",
    "# Concatenate the scaled and unscaled parts\n",
    "X_train = pd.concat([X_train_scaled_part, X_train_unscaled_part], axis=1)\n",
    "X_test = pd.concat([X_test_scaled_part, X_test_unscaled_part], axis=1)\n",
    "\n",
    "# Verify the shapes after scaling\n",
    "print(\"Shapes after MinMax scaling:\")\n",
    "print(f\"X_train.shape: {X_train.shape}\")\n",
    "print(f\"X_test.shape: {X_test.shape}\")"
   ]
  },
  {
   "cell_type": "code",
   "execution_count": 17,
   "metadata": {},
   "outputs": [
    {
     "data": {
      "text/plain": [
       "(136601, 1778)"
      ]
     },
     "execution_count": 17,
     "metadata": {},
     "output_type": "execute_result"
    }
   ],
   "source": [
    "X_train.shape"
   ]
  },
  {
   "cell_type": "code",
   "execution_count": 18,
   "metadata": {},
   "outputs": [],
   "source": [
    "# Convert data to PyTorch tensors\n",
    "X_train_tensor = torch.tensor(X_train.values, dtype=torch.float32)\n",
    "y_train_tensor = torch.tensor(y_train, dtype=torch.float32)\n",
    "X_test_tensor = torch.tensor(X_test.values, dtype=torch.float32)\n",
    "y_test_tensor = torch.tensor(y_test, dtype=torch.float32)\n",
    "\n",
    "X_train_tensor = X_train_tensor.to(device)\n",
    "y_train_tensor = y_train_tensor.to(device)\n",
    "X_test_tensor = X_test_tensor.to(device)\n",
    "y_test_tensor = y_test_tensor.to(device)"
   ]
  },
  {
   "cell_type": "code",
   "execution_count": 19,
   "metadata": {},
   "outputs": [
    {
     "name": "stdout",
     "output_type": "stream",
     "text": [
      "X_train_tensor shape: torch.Size([136601, 1778]) y_train_tensor shape: torch.Size([136601, 1771]) X_test_tensor shape: torch.Size([34151, 1778]) y_test_tensor shape: torch.Size([34151, 1771])\n"
     ]
    }
   ],
   "source": [
    "# print of shapes of tensors\n",
    "print(f\"X_train_tensor shape: {X_train_tensor.shape}\", f\"y_train_tensor shape: {y_train_tensor.shape}\", f\"X_test_tensor shape: {X_test_tensor.shape}\", f\"y_test_tensor shape: {y_test_tensor.shape}\")"
   ]
  },
  {
   "cell_type": "code",
   "execution_count": 20,
   "metadata": {},
   "outputs": [],
   "source": [
    "# Create DataLoader\n",
    "train_dataset = TensorDataset(X_train_tensor, y_train_tensor)\n",
    "test_dataset = TensorDataset(X_test_tensor, y_test_tensor)\n",
    "batch_size = 64\n",
    "train_loader = DataLoader(train_dataset, batch_size=batch_size, shuffle=True)\n",
    "test_loader = DataLoader(test_dataset, batch_size=batch_size, shuffle=True)"
   ]
  },
  {
   "cell_type": "code",
   "execution_count": 21,
   "metadata": {},
   "outputs": [],
   "source": [
    "class PortPredictor(nn.Module):\n",
    "    def __init__(self, input_size, hidden_size, num_classes, dropout_rate=0.5):\n",
    "        super(PortPredictor, self).__init__()\n",
    "        self.fc1 = nn.Linear(input_size, hidden_sizes[0], device=device)\n",
    "        self.fc2 = nn.Linear(hidden_sizes[0], hidden_sizes[1])\n",
    "        self.fc3 = nn.Linear(hidden_sizes[1], hidden_sizes[2])\n",
    "        self.fc4 = nn.Linear(hidden_sizes[2], hidden_sizes[3])\n",
    "        self.fc5 = nn.Linear(hidden_sizes[3], hidden_sizes[2])\n",
    "        self.fc6 = nn.Linear(hidden_sizes[2], hidden_sizes[1])\n",
    "        self.fc7 = nn.Linear(hidden_sizes[1], hidden_sizes[0])\n",
    "        self.fc8 = nn.Linear(hidden_sizes[0], num_classes)\n",
    "        self.relu = nn.ReLU()\n",
    "        self.dropout = nn.Dropout(dropout_rate)\n",
    "\n",
    "    def forward(self, x):\n",
    "        x = self.relu(self.fc1(x))\n",
    "        x = self.dropout(x)\n",
    "        x = self.relu(self.fc2(x))\n",
    "        x = self.dropout(x)\n",
    "        x = self.relu(self.fc3(x))\n",
    "        x = self.dropout(x)\n",
    "        x = self.relu(self.fc4(x))\n",
    "        x = self.dropout(x)\n",
    "        x = self.relu(self.fc5(x))\n",
    "        x = self.dropout(x)\n",
    "        x = self.relu(self.fc6(x))\n",
    "        x = self.dropout(x)\n",
    "        x = self.relu(self.fc7(x))\n",
    "        x = self.fc8(x)\n",
    "        return x\n",
    "    \n",
    "input_size = X_train_tensor.shape[1]\n",
    "num_classes = y_train_tensor.shape[1]\n",
    "hidden_sizes = [1024, 512, 256, 128]\n",
    "\n",
    "# TODO: Play around with the loss function and learning rate - you want it to fluctuate. Goal is to minimize the loss\n",
    "model = PortPredictor(input_size, hidden_sizes, num_classes).to(device)\n",
    "criterion = nn.CrossEntropyLoss() \n",
    "optimizer = optim.Adam(model.parameters(), lr=0.001, weight_decay=1e-5)\n",
    "scheduler = optim.lr_scheduler.StepLR(optimizer, step_size=10, gamma=0.1)  # StepLR scheduler"
   ]
  },
  {
   "cell_type": "code",
   "execution_count": 22,
   "metadata": {},
   "outputs": [
    {
     "data": {
      "text/plain": [
       "torch.Size([136601, 1778])"
      ]
     },
     "execution_count": 22,
     "metadata": {},
     "output_type": "execute_result"
    }
   ],
   "source": [
    "X_train_tensor.shape"
   ]
  },
  {
   "cell_type": "code",
   "execution_count": 23,
   "metadata": {},
   "outputs": [
    {
     "data": {
      "text/plain": [
       "tensor([[0.1373, 0.0000, 0.0460,  ..., 0.0000, 0.0000, 0.0000],\n",
       "        [0.2286, 0.6364, 0.0023,  ..., 0.0000, 0.0000, 0.0000],\n",
       "        [0.0402, 0.6364, 0.8348,  ..., 0.0000, 0.0000, 0.0000],\n",
       "        ...,\n",
       "        [0.1566, 0.8182, 0.2737,  ..., 0.0000, 0.0000, 0.0000],\n",
       "        [0.2637, 0.4545, 0.0346,  ..., 0.0000, 0.0000, 0.0000],\n",
       "        [0.0604, 0.1818, 0.4974,  ..., 0.0000, 0.0000, 0.0000]],\n",
       "       device='cuda:0')"
      ]
     },
     "execution_count": 23,
     "metadata": {},
     "output_type": "execute_result"
    }
   ],
   "source": [
    "X_train_tensor"
   ]
  },
  {
   "cell_type": "code",
   "execution_count": 24,
   "metadata": {},
   "outputs": [
    {
     "data": {
      "text/plain": [
       "PortPredictor(\n",
       "  (fc1): Linear(in_features=1778, out_features=1024, bias=True)\n",
       "  (fc2): Linear(in_features=1024, out_features=512, bias=True)\n",
       "  (fc3): Linear(in_features=512, out_features=256, bias=True)\n",
       "  (fc4): Linear(in_features=256, out_features=128, bias=True)\n",
       "  (fc5): Linear(in_features=128, out_features=256, bias=True)\n",
       "  (fc6): Linear(in_features=256, out_features=512, bias=True)\n",
       "  (fc7): Linear(in_features=512, out_features=1024, bias=True)\n",
       "  (fc8): Linear(in_features=1024, out_features=1771, bias=True)\n",
       "  (relu): ReLU()\n",
       "  (dropout): Dropout(p=0.5, inplace=False)\n",
       ")"
      ]
     },
     "execution_count": 24,
     "metadata": {},
     "output_type": "execute_result"
    }
   ],
   "source": [
    "model"
   ]
  },
  {
   "cell_type": "code",
   "execution_count": 25,
   "metadata": {},
   "outputs": [],
   "source": [
    "# Lists to store loss and accuracy\n",
    "train_losses = []\n",
    "train_accuracies = []\n",
    "test_losses = []\n",
    "test_accuracies = []\n",
    "\n",
    "def train_model():\n",
    "    model.train()\n",
    "    total_loss = 0\n",
    "    correct = 0\n",
    "    total = 0\n",
    "    for inputs, targets in train_loader:\n",
    "        inputs, targets = inputs.to(device), targets.to(device)\n",
    "        optimizer.zero_grad()\n",
    "        outputs = model(inputs)\n",
    "        loss = criterion(outputs, torch.argmax(targets, dim=1))\n",
    "        loss.backward()\n",
    "        optimizer.step()\n",
    "\n",
    "        total_loss += loss.item()\n",
    "        _, predicted = torch.max(outputs, 1)\n",
    "        target_classes = torch.argmax(targets, dim=1)\n",
    "        correct += (predicted == target_classes).sum().item()\n",
    "        total += target_classes.size(0)\n",
    "        \n",
    "    accuracy = correct / total\n",
    "    return total_loss / len(train_loader), accuracy\n",
    "\n",
    "def test_model():\n",
    "    model.eval()\n",
    "    total_loss = 0\n",
    "    correct = 0\n",
    "    total = 0\n",
    "    with torch.no_grad():\n",
    "        for inputs, targets in test_loader:\n",
    "            inputs, targets = inputs.to(device), targets.to(device)\n",
    "            outputs = model(inputs)\n",
    "            loss = criterion(outputs, torch.argmax(targets, dim=1))\n",
    "            \n",
    "            total_loss += loss.item()\n",
    "            _, predicted = torch.max(outputs, 1)\n",
    "            target_classes = torch.argmax(targets, dim=1)\n",
    "            correct += (predicted == target_classes).sum().item()\n",
    "            total += target_classes.size(0)\n",
    "            \n",
    "    accuracy = correct / total\n",
    "    return total_loss / len(test_loader), accuracy"
   ]
  },
  {
   "cell_type": "code",
   "execution_count": 26,
   "metadata": {},
   "outputs": [
    {
     "name": "stdout",
     "output_type": "stream",
     "text": [
      "Epoch 0, Train Loss: 5.2693, Train Acc: 5.8858, Test Loss: 4.8499, Test Acc: 7.8299\n",
      "Epoch 1, Train Loss: 4.7426, Train Acc: 8.5336, Test Loss: 4.5220, Test Acc: 11.1241\n",
      "Epoch 2, Train Loss: 4.5306, Train Acc: 10.1200, Test Loss: 4.3400, Test Acc: 12.4447\n",
      "Epoch 3, Train Loss: 4.3900, Train Acc: 11.1405, Test Loss: 4.2407, Test Acc: 12.7610\n",
      "Epoch 4, Train Loss: 4.2858, Train Acc: 11.9099, Test Loss: 4.1485, Test Acc: 13.2705\n",
      "Epoch 5, Train Loss: 4.2091, Train Acc: 12.3359, Test Loss: 4.1127, Test Acc: 13.6189\n",
      "Epoch 6, Train Loss: 4.1598, Train Acc: 12.6353, Test Loss: 4.0602, Test Acc: 13.7038\n",
      "Epoch 7, Train Loss: 4.1185, Train Acc: 13.0277, Test Loss: 4.0330, Test Acc: 13.6833\n",
      "Epoch 8, Train Loss: 4.0922, Train Acc: 13.3352, Test Loss: 4.0148, Test Acc: 14.4886\n",
      "Epoch 9, Train Loss: 4.0631, Train Acc: 13.6529, Test Loss: 3.9546, Test Acc: 15.0010\n",
      "Epoch 10, Train Loss: 3.9652, Train Acc: 14.4655, Test Loss: 3.9103, Test Acc: 15.9644\n",
      "Epoch 11, Train Loss: 3.9296, Train Acc: 14.8527, Test Loss: 3.9011, Test Acc: 15.6716\n",
      "Epoch 12, Train Loss: 3.9109, Train Acc: 14.9516, Test Loss: 3.8920, Test Acc: 15.9937\n",
      "Epoch 13, Train Loss: 3.8936, Train Acc: 15.2166, Test Loss: 3.8807, Test Acc: 15.9351\n",
      "Epoch 14, Train Loss: 3.8829, Train Acc: 15.3044, Test Loss: 3.8803, Test Acc: 16.0083\n",
      "Epoch 15, Train Loss: 3.8707, Train Acc: 15.3996, Test Loss: 3.8663, Test Acc: 16.0727\n",
      "Epoch 16, Train Loss: 3.8633, Train Acc: 15.3864, Test Loss: 3.8626, Test Acc: 16.3773\n",
      "Epoch 17, Train Loss: 3.8514, Train Acc: 15.4757, Test Loss: 3.8541, Test Acc: 16.4446\n",
      "Epoch 18, Train Loss: 3.8430, Train Acc: 15.6880, Test Loss: 3.8528, Test Acc: 16.2806\n",
      "Epoch 19, Train Loss: 3.8353, Train Acc: 15.8183, Test Loss: 3.8507, Test Acc: 16.4622\n",
      "Epoch 20, Train Loss: 3.8230, Train Acc: 15.9040, Test Loss: 3.8453, Test Acc: 16.4973\n",
      "Epoch 21, Train Loss: 3.8188, Train Acc: 15.8989, Test Loss: 3.8436, Test Acc: 16.3597\n",
      "Epoch 22, Train Loss: 3.8191, Train Acc: 15.9223, Test Loss: 3.8421, Test Acc: 16.4095\n",
      "Epoch 23, Train Loss: 3.8187, Train Acc: 15.9084, Test Loss: 3.8410, Test Acc: 16.4358\n",
      "Epoch 24, Train Loss: 3.8153, Train Acc: 15.8849, Test Loss: 3.8385, Test Acc: 16.4973\n",
      "Epoch 25, Train Loss: 3.8153, Train Acc: 15.8981, Test Loss: 3.8371, Test Acc: 16.5705\n",
      "Epoch 26, Train Loss: 3.8124, Train Acc: 15.9464, Test Loss: 3.8374, Test Acc: 16.4768\n",
      "Epoch 27, Train Loss: 3.8108, Train Acc: 15.9728, Test Loss: 3.8366, Test Acc: 16.4329\n",
      "Epoch 28, Train Loss: 3.8098, Train Acc: 16.0270, Test Loss: 3.8350, Test Acc: 16.4885\n",
      "Epoch 29, Train Loss: 3.8083, Train Acc: 15.9684, Test Loss: 3.8337, Test Acc: 16.5354\n",
      "Epoch 30, Train Loss: 3.8049, Train Acc: 16.0145, Test Loss: 3.8338, Test Acc: 16.5237\n",
      "Epoch 31, Train Loss: 3.8060, Train Acc: 16.0284, Test Loss: 3.8339, Test Acc: 16.4915\n",
      "Epoch 32, Train Loss: 3.8088, Train Acc: 15.9838, Test Loss: 3.8335, Test Acc: 16.5032\n",
      "Epoch 33, Train Loss: 3.8053, Train Acc: 15.9867, Test Loss: 3.8342, Test Acc: 16.5149\n",
      "Epoch 34, Train Loss: 3.8057, Train Acc: 16.0789, Test Loss: 3.8339, Test Acc: 16.5032\n",
      "Epoch 35, Train Loss: 3.8074, Train Acc: 15.9955, Test Loss: 3.8337, Test Acc: 16.4651\n",
      "Epoch 36, Train Loss: 3.8025, Train Acc: 16.0153, Test Loss: 3.8337, Test Acc: 16.4798\n",
      "Epoch 37, Train Loss: 3.8047, Train Acc: 16.0255, Test Loss: 3.8337, Test Acc: 16.4651\n",
      "Epoch 38, Train Loss: 3.8032, Train Acc: 15.9486, Test Loss: 3.8333, Test Acc: 16.4593\n",
      "Epoch 39, Train Loss: 3.8052, Train Acc: 16.0204, Test Loss: 3.8333, Test Acc: 16.4593\n",
      "Epoch 40, Train Loss: 3.8035, Train Acc: 15.9391, Test Loss: 3.8332, Test Acc: 16.4622\n",
      "Epoch 41, Train Loss: 3.8026, Train Acc: 16.0167, Test Loss: 3.8339, Test Acc: 16.4622\n",
      "Epoch 42, Train Loss: 3.8056, Train Acc: 15.9523, Test Loss: 3.8331, Test Acc: 16.4593\n",
      "Epoch 43, Train Loss: 3.8040, Train Acc: 16.0453, Test Loss: 3.8333, Test Acc: 16.4593\n",
      "Epoch 44, Train Loss: 3.8071, Train Acc: 15.9750, Test Loss: 3.8340, Test Acc: 16.4563\n",
      "Epoch 45, Train Loss: 3.8030, Train Acc: 16.1302, Test Loss: 3.8334, Test Acc: 16.4622\n",
      "Epoch 46, Train Loss: 3.8054, Train Acc: 15.9765, Test Loss: 3.8336, Test Acc: 16.4622\n",
      "Epoch 47, Train Loss: 3.8012, Train Acc: 16.0109, Test Loss: 3.8332, Test Acc: 16.4622\n",
      "Epoch 48, Train Loss: 3.8050, Train Acc: 16.0343, Test Loss: 3.8335, Test Acc: 16.4622\n",
      "Epoch 49, Train Loss: 3.8035, Train Acc: 16.0819, Test Loss: 3.8333, Test Acc: 16.4622\n"
     ]
    }
   ],
   "source": [
    "num_epochs = 50\n",
    "\n",
    "for epoch in range(num_epochs):\n",
    "    train_loss, train_acc = train_model()\n",
    "    test_loss, test_acc = test_model()\n",
    "    \n",
    "    train_losses.append(train_loss)\n",
    "    train_accuracies.append(train_acc)\n",
    "    test_losses.append(test_loss)\n",
    "    test_accuracies.append(test_acc)\n",
    "    print(f'Epoch {epoch}, Train Loss: {train_loss:.4f}, Train Acc: {(100*train_acc):.4f}, Test Loss: {test_loss:.4f}, Test Acc: {(100*test_acc):.4f}')\n",
    "    scheduler.step()"
   ]
  },
  {
   "cell_type": "code",
   "execution_count": 27,
   "metadata": {},
   "outputs": [
    {
     "data": {
      "image/png": "[encoded data removed]",
      "text/plain": [
       "<Figure size 1200x500 with 2 Axes>"
      ]
     },
     "metadata": {},
     "output_type": "display_data"
    }
   ],
   "source": [
    "# Plot learning curves\n",
    "plt.figure(figsize=(12, 5))\n",
    "\n",
    "# Plot training and test loss\n",
    "plt.subplot(1, 2, 1)\n",
    "plt.plot(train_losses, label='Train Loss')\n",
    "plt.plot(test_losses, label='Test Loss')\n",
    "plt.xlabel('Epoch')\n",
    "plt.ylabel('Loss')\n",
    "plt.title('Loss Curve')\n",
    "plt.legend()\n",
    "\n",
    "# Plot training and test accuracy\n",
    "plt.subplot(1, 2, 2)\n",
    "plt.plot(train_accuracies, label='Train Accuracy')\n",
    "plt.plot(test_accuracies, label='Test Accuracy')\n",
    "plt.xlabel('Epoch')\n",
    "plt.ylabel('Accuracy')\n",
    "plt.title('Accuracy Curve')\n",
    "plt.legend()\n",
    "\n",
    "plt.show()"
   ]
  }
 ],
 "metadata": {
  "kernelspec": {
   "display_name": "ais_env",
   "language": "python",
   "name": "python3"
  },
  "language_info": {
   "codemirror_mode": {
    "name": "ipython",
    "version": 3
   },
   "file_extension": ".py",
   "mimetype": "text/x-python",
   "name": "python",
   "nbconvert_exporter": "python",
   "pygments_lexer": "ipython3",
   "version": "3.11.8"
  }
 },
 "nbformat": 4,
 "nbformat_minor": 2
}
