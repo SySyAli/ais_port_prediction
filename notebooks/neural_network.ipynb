{
 "cells": [
  {
   "cell_type": "code",
   "execution_count": 23,
   "metadata": {},
   "outputs": [],
   "source": [
    "import torch\n",
    "import torch.nn as nn\n",
    "import torch.optim as optim\n",
    "from torch.utils.data import DataLoader, TensorDataset\n",
    "\n",
    "import pandas as pd\n",
    "import numpy as np\n",
    "import matplotlib.pyplot as plt\n",
    "from sklearn.preprocessing import LabelEncoder, MinMaxScaler, LabelBinarizer\n",
    "from sklearn.model_selection import train_test_split"
   ]
  },
  {
   "cell_type": "code",
   "execution_count": 24,
   "metadata": {},
   "outputs": [
    {
     "name": "stdout",
     "output_type": "stream",
     "text": [
      "Using device: cuda\n"
     ]
    }
   ],
   "source": [
    "# check device\n",
    "device = 'cuda' if torch.cuda.is_available() else 'cpu'\n",
    "print(f\"Using device: {device}\")"
   ]
  },
  {
   "cell_type": "code",
   "execution_count": 25,
   "metadata": {},
   "outputs": [],
   "source": [
    "# Load your data\n",
    "df = pd.read_csv('../data/cleaned/cleaned_vessel_calls.csv')"
   ]
  },
  {
   "cell_type": "code",
   "execution_count": 26,
   "metadata": {},
   "outputs": [],
   "source": [
    "# Preprocess the dataframe\n",
    "df[\"arrivalDate\"] = pd.to_datetime(df[\"arrivalDate\"])\n",
    "df[\"sailingDate\"] = pd.to_datetime(df[\"sailingDate\"])\n",
    "df[\"duration\"] = (df[\"sailingDate\"] - df[\"arrivalDate\"]) / pd.Timedelta(days=1)\n",
    "df[\"month\"] = df[\"arrivalDate\"].dt.month\n",
    "df = df.dropna()"
   ]
  },
  {
   "cell_type": "code",
   "execution_count": 27,
   "metadata": {},
   "outputs": [],
   "source": [
    "# cap any outliers\n",
    "cap = df['duration'].quantile(.99)\n",
    "df['capped_duration'] = df['duration'].apply(lambda x: min(x, cap))"
   ]
  },
  {
   "cell_type": "code",
   "execution_count": 28,
   "metadata": {},
   "outputs": [],
   "source": [
    "# Sort and filter data\n",
    "df.sort_values(by=[\"IMO\", \"arrivalDate\"], inplace=True)\n",
    "df['next_unlocode'] = df.groupby('IMO')['place.unlocode'].shift(-1)\n",
    "df['is_last_imo'] = df['IMO'] != df['IMO'].shift(-1)\n",
    "df = df[~df[\"is_last_imo\"]]\n",
    "df = df[df[\"Event_Type\"] != \"ARRIVAL\"]"
   ]
  },
  {
   "cell_type": "code",
   "execution_count": 29,
   "metadata": {},
   "outputs": [],
   "source": [
    "# Drop unnecessary columns\n",
    "df = df.drop(columns=[\"is_last_imo\", \"Event_Type\", \"Timestamp\", \"vessel.vesselName\", \"IMO\", \"arrivalDate\", \"sailingDate\", \"duration\"])\n",
    "\n",
    "# Rename columns for consistency\n",
    "df = df.rename(columns={'place.unlocode': 'current_unlocode', 'place.placeName': 'port_name', 'vessel.vesselType': 'vessel_type', 'place.placeType': 'place_type', 'place.countryName': 'country_name'})"
   ]
  },
  {
   "cell_type": "code",
   "execution_count": 30,
   "metadata": {},
   "outputs": [],
   "source": [
    "# Encode categorical features\n",
    "label_encoders = {}\n",
    "for column in ['port_name', 'country_name', 'vessel_type', 'place_type']:\n",
    "    le = LabelEncoder()\n",
    "    df[column] = le.fit_transform(df[column].astype(str))\n",
    "    label_encoders[column] = le"
   ]
  },
  {
   "cell_type": "code",
   "execution_count": 31,
   "metadata": {},
   "outputs": [],
   "source": [
    "# One-hot encode the port_unlocode feature\n",
    "lb_in = LabelBinarizer(sparse_output=False)\n",
    "unlocode_onehot = lb_in.fit_transform(df[['current_unlocode']])\n",
    "df_unlocode_onehot = pd.DataFrame(unlocode_onehot, columns=lb_in.classes_)"
   ]
  },
  {
   "cell_type": "code",
   "execution_count": 32,
   "metadata": {},
   "outputs": [],
   "source": [
    "lb_y = LabelBinarizer(sparse_output=False)\n",
    "y_onehot = lb_y.fit_transform(df[['next_unlocode']])"
   ]
  },
  {
   "cell_type": "code",
   "execution_count": 33,
   "metadata": {},
   "outputs": [],
   "source": [
    "y_onehot_df = pd.DataFrame(y_onehot, columns=lb_y.classes_)"
   ]
  },
  {
   "cell_type": "code",
   "execution_count": 34,
   "metadata": {},
   "outputs": [
    {
     "data": {
      "text/html": [
       "<div>\n",
       "<style scoped>\n",
       "    .dataframe tbody tr th:only-of-type {\n",
       "        vertical-align: middle;\n",
       "    }\n",
       "\n",
       "    .dataframe tbody tr th {\n",
       "        vertical-align: top;\n",
       "    }\n",
       "\n",
       "    .dataframe thead th {\n",
       "        text-align: right;\n",
       "    }\n",
       "</style>\n",
       "<table border=\"1\" class=\"dataframe\">\n",
       "  <thead>\n",
       "    <tr style=\"text-align: right;\">\n",
       "      <th></th>\n",
       "      <th>port_name</th>\n",
       "      <th>current_unlocode</th>\n",
       "      <th>place_type</th>\n",
       "      <th>country_name</th>\n",
       "      <th>vessel_type</th>\n",
       "      <th>month</th>\n",
       "      <th>capped_duration</th>\n",
       "      <th>next_unlocode</th>\n",
       "    </tr>\n",
       "  </thead>\n",
       "  <tbody>\n",
       "    <tr>\n",
       "      <th>314761</th>\n",
       "      <td>840</td>\n",
       "      <td>USLAX</td>\n",
       "      <td>1</td>\n",
       "      <td>163</td>\n",
       "      <td>4</td>\n",
       "      <td>1</td>\n",
       "      <td>7.579803</td>\n",
       "      <td>CNJGY</td>\n",
       "    </tr>\n",
       "    <tr>\n",
       "      <th>314763</th>\n",
       "      <td>658</td>\n",
       "      <td>CNJGY</td>\n",
       "      <td>1</td>\n",
       "      <td>104</td>\n",
       "      <td>4</td>\n",
       "      <td>2</td>\n",
       "      <td>1.484931</td>\n",
       "      <td>CNTXG</td>\n",
       "    </tr>\n",
       "    <tr>\n",
       "      <th>314765</th>\n",
       "      <td>1583</td>\n",
       "      <td>CNTXG</td>\n",
       "      <td>1</td>\n",
       "      <td>104</td>\n",
       "      <td>4</td>\n",
       "      <td>3</td>\n",
       "      <td>0.854514</td>\n",
       "      <td>CNQAW</td>\n",
       "    </tr>\n",
       "    <tr>\n",
       "      <th>314767</th>\n",
       "      <td>1279</td>\n",
       "      <td>CNQAW</td>\n",
       "      <td>2</td>\n",
       "      <td>104</td>\n",
       "      <td>4</td>\n",
       "      <td>3</td>\n",
       "      <td>0.613380</td>\n",
       "      <td>CNMSN</td>\n",
       "    </tr>\n",
       "    <tr>\n",
       "      <th>314769</th>\n",
       "      <td>908</td>\n",
       "      <td>CNMSN</td>\n",
       "      <td>2</td>\n",
       "      <td>104</td>\n",
       "      <td>4</td>\n",
       "      <td>3</td>\n",
       "      <td>1.021157</td>\n",
       "      <td>CNNSA</td>\n",
       "    </tr>\n",
       "    <tr>\n",
       "      <th>...</th>\n",
       "      <td>...</td>\n",
       "      <td>...</td>\n",
       "      <td>...</td>\n",
       "      <td>...</td>\n",
       "      <td>...</td>\n",
       "      <td>...</td>\n",
       "      <td>...</td>\n",
       "      <td>...</td>\n",
       "    </tr>\n",
       "    <tr>\n",
       "      <th>12569</th>\n",
       "      <td>1189</td>\n",
       "      <td>MYPKG</td>\n",
       "      <td>1</td>\n",
       "      <td>81</td>\n",
       "      <td>9</td>\n",
       "      <td>9</td>\n",
       "      <td>0.871701</td>\n",
       "      <td>INMAA</td>\n",
       "    </tr>\n",
       "    <tr>\n",
       "      <th>12571</th>\n",
       "      <td>290</td>\n",
       "      <td>INMAA</td>\n",
       "      <td>1</td>\n",
       "      <td>66</td>\n",
       "      <td>9</td>\n",
       "      <td>9</td>\n",
       "      <td>1.138021</td>\n",
       "      <td>BDCGP</td>\n",
       "    </tr>\n",
       "    <tr>\n",
       "      <th>12573</th>\n",
       "      <td>298</td>\n",
       "      <td>BDCGP</td>\n",
       "      <td>1</td>\n",
       "      <td>13</td>\n",
       "      <td>9</td>\n",
       "      <td>9</td>\n",
       "      <td>1.997604</td>\n",
       "      <td>THLCH</td>\n",
       "    </tr>\n",
       "    <tr>\n",
       "      <th>12575</th>\n",
       "      <td>789</td>\n",
       "      <td>THLCH</td>\n",
       "      <td>1</td>\n",
       "      <td>150</td>\n",
       "      <td>9</td>\n",
       "      <td>9</td>\n",
       "      <td>0.713912</td>\n",
       "      <td>SGSIN</td>\n",
       "    </tr>\n",
       "    <tr>\n",
       "      <th>12577</th>\n",
       "      <td>1470</td>\n",
       "      <td>SGSIN</td>\n",
       "      <td>1</td>\n",
       "      <td>123</td>\n",
       "      <td>9</td>\n",
       "      <td>9</td>\n",
       "      <td>0.272824</td>\n",
       "      <td>MYPKG</td>\n",
       "    </tr>\n",
       "  </tbody>\n",
       "</table>\n",
       "<p>170752 rows × 8 columns</p>\n",
       "</div>"
      ],
      "text/plain": [
       "        port_name current_unlocode  place_type  country_name  vessel_type  \\\n",
       "314761        840            USLAX           1           163            4   \n",
       "314763        658            CNJGY           1           104            4   \n",
       "314765       1583            CNTXG           1           104            4   \n",
       "314767       1279            CNQAW           2           104            4   \n",
       "314769        908            CNMSN           2           104            4   \n",
       "...           ...              ...         ...           ...          ...   \n",
       "12569        1189            MYPKG           1            81            9   \n",
       "12571         290            INMAA           1            66            9   \n",
       "12573         298            BDCGP           1            13            9   \n",
       "12575         789            THLCH           1           150            9   \n",
       "12577        1470            SGSIN           1           123            9   \n",
       "\n",
       "        month  capped_duration next_unlocode  \n",
       "314761      1         7.579803         CNJGY  \n",
       "314763      2         1.484931         CNTXG  \n",
       "314765      3         0.854514         CNQAW  \n",
       "314767      3         0.613380         CNMSN  \n",
       "314769      3         1.021157         CNNSA  \n",
       "...       ...              ...           ...  \n",
       "12569       9         0.871701         INMAA  \n",
       "12571       9         1.138021         BDCGP  \n",
       "12573       9         1.997604         THLCH  \n",
       "12575       9         0.713912         SGSIN  \n",
       "12577       9         0.272824         MYPKG  \n",
       "\n",
       "[170752 rows x 8 columns]"
      ]
     },
     "execution_count": 34,
     "metadata": {},
     "output_type": "execute_result"
    }
   ],
   "source": [
    "df"
   ]
  },
  {
   "cell_type": "code",
   "execution_count": 35,
   "metadata": {},
   "outputs": [],
   "source": [
    "# Add the one-hot encoded ports back to the dataframe\n",
    "df = pd.concat([df.reset_index(drop=True), df_unlocode_onehot], axis=1)\n",
    "df = df.drop(columns=['current_unlocode'])"
   ]
  },
  {
   "cell_type": "code",
   "execution_count": 36,
   "metadata": {},
   "outputs": [],
   "source": [
    "# Prepare features\n",
    "X = df.drop(columns=['next_unlocode'])\n",
    "y = y_onehot"
   ]
  },
  {
   "cell_type": "code",
   "execution_count": 37,
   "metadata": {},
   "outputs": [],
   "source": [
    "# Split the data\n",
    "X_train, X_test, y_train, y_test = train_test_split(X, y, test_size=0.4, random_state=42)"
   ]
  },
  {
   "cell_type": "code",
   "execution_count": 38,
   "metadata": {},
   "outputs": [],
   "source": [
    "# scale the data\n",
    "scaler = MinMaxScaler()\n",
    "\n",
    "X_train = scaler.fit_transform(X_train[['capped_duration', 'month', 'port_name', 'country_name', 'vessel_type', 'place_type']])\n",
    "X_test = scaler.transform(X_test[['capped_duration', 'month', 'port_name', 'country_name', 'vessel_type', 'place_type']])"
   ]
  },
  {
   "cell_type": "code",
   "execution_count": 39,
   "metadata": {},
   "outputs": [
    {
     "data": {
      "text/plain": [
       "(102451, 1771)"
      ]
     },
     "execution_count": 39,
     "metadata": {},
     "output_type": "execute_result"
    }
   ],
   "source": [
    "y_train.shape"
   ]
  },
  {
   "cell_type": "code",
   "execution_count": 40,
   "metadata": {},
   "outputs": [],
   "source": [
    "# Convert data to PyTorch tensors\n",
    "X_train_tensor = torch.tensor(X_train, dtype=torch.float32)\n",
    "y_train_tensor = torch.tensor(y_train, dtype=torch.float32)\n",
    "X_test_tensor = torch.tensor(X_test, dtype=torch.float32)\n",
    "y_test_tensor = torch.tensor(y_test, dtype=torch.float32)\n",
    "\n",
    "X_train_tensor = X_train_tensor.to(device)\n",
    "y_train_tensor = y_train_tensor.to(device)\n",
    "X_test_tensor = X_test_tensor.to(device)\n",
    "y_test_tensor = y_test_tensor.to(device)\n",
    "\n",
    "# Create DataLoader\n",
    "train_dataset = TensorDataset(X_train_tensor, y_train_tensor)\n",
    "train_loader = DataLoader(train_dataset, batch_size=64, shuffle=True)\n",
    "test_dataset = TensorDataset(X_test_tensor, y_test_tensor)\n",
    "test_loader = DataLoader(test_dataset, batch_size=64, shuffle=False)"
   ]
  },
  {
   "cell_type": "code",
   "execution_count": 41,
   "metadata": {},
   "outputs": [],
   "source": [
    "class PortPredictor(nn.Module):\n",
    "    def __init__(self, input_size, hidden_dim, output_size):\n",
    "        super(PortPredictor, self).__init__()\n",
    "        self.fc1 = nn.Linear(input_size, hidden_dim)\n",
    "        self.fc2 = nn.Linear(hidden_dim, hidden_dim)\n",
    "        self.fc3 = nn.Linear(hidden_dim, output_size)\n",
    "        self.dropout = nn.Dropout(0.5)\n",
    "        self.relu = nn.ReLU()\n",
    "\n",
    "    def forward(self, x):\n",
    "        x = self.relu(self.fc1(x))\n",
    "        x = self.dropout(x)\n",
    "        x = self.relu(self.fc2(x))\n",
    "        x = self.dropout(x)\n",
    "        x = self.fc3(x)\n",
    "        return x\n",
    "\n",
    "input_size = X_train_tensor.shape[1]\n",
    "hidden_dim = 128\n",
    "output_size = y_train_tensor.shape[1]  # Number of classes\n",
    "\n",
    "model = PortPredictor(input_size, hidden_dim, output_size).to(device)\n",
    "# TODO: Play around with the loss function and learning rate - you want it to fluctuate. Goal is to minimize the loss\n",
    "criterion = nn.CrossEntropyLoss()\n",
    "optimizer = optim.Adam(model.parameters(), lr=0.001)"
   ]
  },
  {
   "cell_type": "code",
   "execution_count": 42,
   "metadata": {},
   "outputs": [],
   "source": [
    "# Lists to store loss and accuracy\n",
    "train_losses = []\n",
    "train_accuracies = []\n",
    "test_losses = []\n",
    "test_accuracies = []\n",
    "\n",
    "def train_model():\n",
    "    model.train()\n",
    "    total_loss = 0\n",
    "    correct = 0\n",
    "    for inputs, targets in train_loader:\n",
    "        inputs, targets = inputs.to(device), targets.to(device)\n",
    "        optimizer.zero_grad()\n",
    "        outputs = model(inputs)\n",
    "        loss = criterion(outputs, targets)\n",
    "        loss.backward()\n",
    "        optimizer.step()\n",
    "        total_loss += loss.item()\n",
    "        pred = torch.round(torch.sigmoid(outputs))\n",
    "        correct += (pred == targets).sum().item()\n",
    "    accuracy = correct / (len(train_loader.dataset) * output_size)\n",
    "    return total_loss / len(train_loader), accuracy\n",
    "\n",
    "def test_model():\n",
    "    model.eval()\n",
    "    total_loss = 0\n",
    "    correct = 0\n",
    "    with torch.no_grad():\n",
    "        for inputs, targets in test_loader:\n",
    "            inputs, targets = inputs.to(device), targets.to(device)\n",
    "            outputs = model(inputs)\n",
    "            loss = criterion(outputs, targets)\n",
    "            total_loss += loss.item()\n",
    "            pred = torch.round(torch.sigmoid(outputs))\n",
    "            correct += (pred == targets).sum().item()\n",
    "    accuracy = correct / (len(test_loader.dataset) * output_size)\n",
    "    return total_loss / len(test_loader), accuracy"
   ]
  },
  {
   "cell_type": "code",
   "execution_count": 43,
   "metadata": {},
   "outputs": [
    {
     "name": "stdout",
     "output_type": "stream",
     "text": [
      "Epoch 0, Train Loss: 5.6883, Train Acc: 0.9803, Test Loss: 5.3526, Test Acc: 0.9829\n",
      "Epoch 1, Train Loss: 5.3293, Train Acc: 0.9818, Test Loss: 5.1419, Test Acc: 0.9807\n",
      "Epoch 2, Train Loss: 5.1687, Train Acc: 0.9805, Test Loss: 5.0117, Test Acc: 0.9814\n",
      "Epoch 3, Train Loss: 5.0621, Train Acc: 0.9812, Test Loss: 4.9203, Test Acc: 0.9819\n",
      "Epoch 4, Train Loss: 4.9814, Train Acc: 0.9822, Test Loss: 4.8512, Test Acc: 0.9830\n",
      "Epoch 5, Train Loss: 4.9155, Train Acc: 0.9834, Test Loss: 4.8028, Test Acc: 0.9850\n",
      "Epoch 6, Train Loss: 4.8685, Train Acc: 0.9848, Test Loss: 4.7661, Test Acc: 0.9856\n",
      "Epoch 7, Train Loss: 4.8271, Train Acc: 0.9860, Test Loss: 4.7349, Test Acc: 0.9870\n",
      "Epoch 8, Train Loss: 4.7901, Train Acc: 0.9872, Test Loss: 4.7086, Test Acc: 0.9882\n",
      "Epoch 9, Train Loss: 4.7589, Train Acc: 0.9882, Test Loss: 4.6864, Test Acc: 0.9894\n",
      "Epoch 10, Train Loss: 4.7363, Train Acc: 0.9892, Test Loss: 4.6736, Test Acc: 0.9905\n",
      "Epoch 11, Train Loss: 4.7105, Train Acc: 0.9902, Test Loss: 4.6525, Test Acc: 0.9915\n",
      "Epoch 12, Train Loss: 4.6902, Train Acc: 0.9908, Test Loss: 4.6434, Test Acc: 0.9922\n",
      "Epoch 13, Train Loss: 4.6750, Train Acc: 0.9916, Test Loss: 4.6329, Test Acc: 0.9928\n",
      "Epoch 14, Train Loss: 4.6563, Train Acc: 0.9923, Test Loss: 4.6226, Test Acc: 0.9933\n",
      "Epoch 15, Train Loss: 4.6454, Train Acc: 0.9928, Test Loss: 4.6076, Test Acc: 0.9936\n",
      "Epoch 16, Train Loss: 4.6326, Train Acc: 0.9933, Test Loss: 4.6046, Test Acc: 0.9944\n",
      "Epoch 17, Train Loss: 4.6106, Train Acc: 0.9938, Test Loss: 4.5982, Test Acc: 0.9947\n",
      "Epoch 18, Train Loss: 4.6086, Train Acc: 0.9941, Test Loss: 4.5892, Test Acc: 0.9950\n",
      "Epoch 19, Train Loss: 4.5981, Train Acc: 0.9946, Test Loss: 4.5795, Test Acc: 0.9953\n",
      "Epoch 20, Train Loss: 4.5906, Train Acc: 0.9949, Test Loss: 4.5742, Test Acc: 0.9957\n",
      "Epoch 21, Train Loss: 4.5809, Train Acc: 0.9951, Test Loss: 4.5757, Test Acc: 0.9959\n",
      "Epoch 22, Train Loss: 4.5690, Train Acc: 0.9954, Test Loss: 4.5649, Test Acc: 0.9962\n",
      "Epoch 23, Train Loss: 4.5600, Train Acc: 0.9956, Test Loss: 4.5565, Test Acc: 0.9963\n",
      "Epoch 24, Train Loss: 4.5531, Train Acc: 0.9958, Test Loss: 4.5545, Test Acc: 0.9965\n",
      "Epoch 25, Train Loss: 4.5484, Train Acc: 0.9960, Test Loss: 4.5507, Test Acc: 0.9966\n",
      "Epoch 26, Train Loss: 4.5466, Train Acc: 0.9961, Test Loss: 4.5417, Test Acc: 0.9966\n",
      "Epoch 27, Train Loss: 4.5361, Train Acc: 0.9963, Test Loss: 4.5394, Test Acc: 0.9970\n",
      "Epoch 28, Train Loss: 4.5280, Train Acc: 0.9965, Test Loss: 4.5435, Test Acc: 0.9971\n",
      "Epoch 29, Train Loss: 4.5261, Train Acc: 0.9966, Test Loss: 4.5350, Test Acc: 0.9972\n",
      "Epoch 30, Train Loss: 4.5211, Train Acc: 0.9967, Test Loss: 4.5347, Test Acc: 0.9974\n",
      "Epoch 31, Train Loss: 4.5201, Train Acc: 0.9967, Test Loss: 4.5342, Test Acc: 0.9974\n",
      "Epoch 32, Train Loss: 4.5145, Train Acc: 0.9968, Test Loss: 4.5316, Test Acc: 0.9974\n",
      "Epoch 33, Train Loss: 4.5104, Train Acc: 0.9968, Test Loss: 4.5224, Test Acc: 0.9976\n",
      "Epoch 34, Train Loss: 4.5013, Train Acc: 0.9970, Test Loss: 4.5192, Test Acc: 0.9977\n",
      "Epoch 35, Train Loss: 4.4970, Train Acc: 0.9970, Test Loss: 4.5186, Test Acc: 0.9977\n",
      "Epoch 36, Train Loss: 4.4993, Train Acc: 0.9971, Test Loss: 4.5205, Test Acc: 0.9977\n",
      "Epoch 37, Train Loss: 4.4928, Train Acc: 0.9972, Test Loss: 4.5177, Test Acc: 0.9978\n",
      "Epoch 38, Train Loss: 4.4912, Train Acc: 0.9972, Test Loss: 4.5208, Test Acc: 0.9980\n",
      "Epoch 39, Train Loss: 4.4884, Train Acc: 0.9972, Test Loss: 4.5096, Test Acc: 0.9979\n",
      "Epoch 40, Train Loss: 4.4820, Train Acc: 0.9974, Test Loss: 4.5205, Test Acc: 0.9981\n",
      "Epoch 41, Train Loss: 4.4817, Train Acc: 0.9973, Test Loss: 4.5064, Test Acc: 0.9982\n",
      "Epoch 42, Train Loss: 4.4769, Train Acc: 0.9974, Test Loss: 4.5015, Test Acc: 0.9982\n",
      "Epoch 43, Train Loss: 4.4767, Train Acc: 0.9974, Test Loss: 4.5085, Test Acc: 0.9981\n",
      "Epoch 44, Train Loss: 4.4717, Train Acc: 0.9974, Test Loss: 4.5083, Test Acc: 0.9982\n",
      "Epoch 45, Train Loss: 4.4765, Train Acc: 0.9975, Test Loss: 4.4989, Test Acc: 0.9982\n",
      "Epoch 46, Train Loss: 4.4705, Train Acc: 0.9975, Test Loss: 4.5013, Test Acc: 0.9983\n",
      "Epoch 47, Train Loss: 4.4732, Train Acc: 0.9975, Test Loss: 4.5057, Test Acc: 0.9984\n",
      "Epoch 48, Train Loss: 4.4608, Train Acc: 0.9976, Test Loss: 4.5022, Test Acc: 0.9984\n",
      "Epoch 49, Train Loss: 4.4630, Train Acc: 0.9976, Test Loss: 4.4997, Test Acc: 0.9983\n"
     ]
    }
   ],
   "source": [
    "num_epochs = 200\n",
    "\n",
    "for epoch in range(num_epochs):\n",
    "    train_loss, train_acc = train_model()\n",
    "    test_loss, test_acc = test_model()\n",
    "    train_losses.append(train_loss)\n",
    "    train_accuracies.append(train_acc)\n",
    "    test_losses.append(test_loss)\n",
    "    test_accuracies.append(test_acc)\n",
    "    print(f'Epoch {epoch}, Train Loss: {train_loss:.4f}, Train Acc: {train_acc:.4f}, Test Loss: {test_loss:.4f}, Test Acc: {test_acc:.4f}')\n"
   ]
  },
  {
   "cell_type": "code",
   "execution_count": 44,
   "metadata": {},
   "outputs": [
    {
     "data": {
      "image/png": "[encoded data removed]",
      "text/plain": [
       "<Figure size 1200x500 with 2 Axes>"
      ]
     },
     "metadata": {},
     "output_type": "display_data"
    }
   ],
   "source": [
    "# Plot learning curves\n",
    "plt.figure(figsize=(12, 5))\n",
    "\n",
    "# Plot training and test loss\n",
    "plt.subplot(1, 2, 1)\n",
    "plt.plot(train_losses, label='Train Loss')\n",
    "plt.plot(test_losses, label='Test Loss')\n",
    "plt.xlabel('Epoch')\n",
    "plt.ylabel('Loss')\n",
    "plt.title('Loss Curve')\n",
    "plt.legend()\n",
    "\n",
    "# Plot training and test accuracy\n",
    "plt.subplot(1, 2, 2)\n",
    "plt.plot(train_accuracies, label='Train Accuracy')\n",
    "plt.plot(test_accuracies, label='Test Accuracy')\n",
    "plt.xlabel('Epoch')\n",
    "plt.ylabel('Accuracy')\n",
    "plt.title('Accuracy Curve')\n",
    "plt.legend()\n",
    "\n",
    "plt.show()"
   ]
  }
 ],
 "metadata": {
  "kernelspec": {
   "display_name": "ais_env",
   "language": "python",
   "name": "python3"
  },
  "language_info": {
   "codemirror_mode": {
    "name": "ipython",
    "version": 3
   },
   "file_extension": ".py",
   "mimetype": "text/x-python",
   "name": "python",
   "nbconvert_exporter": "python",
   "pygments_lexer": "ipython3",
   "version": "3.11.8"
  }
 },
 "nbformat": 4,
 "nbformat_minor": 2
}
