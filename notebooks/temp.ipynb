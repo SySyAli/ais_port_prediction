{
 "cells": [
  {
   "cell_type": "code",
   "execution_count": 37,
   "metadata": {},
   "outputs": [],
   "source": [
    "import pandas as pd\n",
    "import geopandas\n",
    "import matplotlib.pyplot as plt"
   ]
  },
  {
   "cell_type": "code",
   "execution_count": 3,
   "metadata": {},
   "outputs": [],
   "source": [
    "df = pd.read_csv(\"../data/all_vessel_calls.csv\")"
   ]
  },
  {
   "cell_type": "code",
   "execution_count": 4,
   "metadata": {},
   "outputs": [
    {
     "data": {
      "text/plain": [
       "(Index(['arrivalDate', 'sailingDate', 'place.placeName', 'place.unlocode',\n",
       "        'place.placeType', 'place.countryName', 'Timestamp', 'Event_Type',\n",
       "        'IMO'],\n",
       "       dtype='object'),\n",
       " (352968, 9))"
      ]
     },
     "execution_count": 4,
     "metadata": {},
     "output_type": "execute_result"
    }
   ],
   "source": [
    "df.columns, df.shape"
   ]
  },
  {
   "cell_type": "code",
   "execution_count": 147,
   "metadata": {},
   "outputs": [],
   "source": [
    "code_df = pd.read_csv(\"../data/unlocode-list.csv\", usecols=['Country', 'Location', 'Coordinates'])"
   ]
  },
  {
   "cell_type": "code",
   "execution_count": 148,
   "metadata": {},
   "outputs": [
    {
     "data": {
      "text/plain": [
       "(Index(['Country', 'Location', 'Coordinates'], dtype='object'), (116074, 3))"
      ]
     },
     "execution_count": 148,
     "metadata": {},
     "output_type": "execute_result"
    }
   ],
   "source": [
    "code_df.columns, code_df.shape"
   ]
  },
  {
   "cell_type": "code",
   "execution_count": 149,
   "metadata": {},
   "outputs": [],
   "source": [
    "code_df['place.unlocode'] = code_df['Country'] + code_df['Location']"
   ]
  },
  {
   "cell_type": "code",
   "execution_count": 130,
   "metadata": {},
   "outputs": [],
   "source": [
    "# display(df)"
   ]
  },
  {
   "cell_type": "code",
   "execution_count": 151,
   "metadata": {},
   "outputs": [
    {
     "data": {
      "text/html": [
       "<div>\n",
       "<style scoped>\n",
       "    .dataframe tbody tr th:only-of-type {\n",
       "        vertical-align: middle;\n",
       "    }\n",
       "\n",
       "    .dataframe tbody tr th {\n",
       "        vertical-align: top;\n",
       "    }\n",
       "\n",
       "    .dataframe thead th {\n",
       "        text-align: right;\n",
       "    }\n",
       "</style>\n",
       "<table border=\"1\" class=\"dataframe\">\n",
       "  <thead>\n",
       "    <tr style=\"text-align: right;\">\n",
       "      <th></th>\n",
       "      <th>Country</th>\n",
       "      <th>Location</th>\n",
       "      <th>Coordinates</th>\n",
       "      <th>place.unlocode</th>\n",
       "    </tr>\n",
       "  </thead>\n",
       "  <tbody>\n",
       "    <tr>\n",
       "      <th>0</th>\n",
       "      <td>AD</td>\n",
       "      <td>ALV</td>\n",
       "      <td>4230N 00131E</td>\n",
       "      <td>ADALV</td>\n",
       "    </tr>\n",
       "    <tr>\n",
       "      <th>1</th>\n",
       "      <td>AD</td>\n",
       "      <td>CAN</td>\n",
       "      <td>4234N 00135E</td>\n",
       "      <td>ADCAN</td>\n",
       "    </tr>\n",
       "    <tr>\n",
       "      <th>2</th>\n",
       "      <td>AD</td>\n",
       "      <td>ENC</td>\n",
       "      <td>4232N 00134E</td>\n",
       "      <td>ADENC</td>\n",
       "    </tr>\n",
       "    <tr>\n",
       "      <th>3</th>\n",
       "      <td>AD</td>\n",
       "      <td>ESC</td>\n",
       "      <td>4231N 00133E</td>\n",
       "      <td>ADESC</td>\n",
       "    </tr>\n",
       "    <tr>\n",
       "      <th>4</th>\n",
       "      <td>AD</td>\n",
       "      <td>EAC</td>\n",
       "      <td>4233N 00131E</td>\n",
       "      <td>ADEAC</td>\n",
       "    </tr>\n",
       "    <tr>\n",
       "      <th>...</th>\n",
       "      <td>...</td>\n",
       "      <td>...</td>\n",
       "      <td>...</td>\n",
       "      <td>...</td>\n",
       "    </tr>\n",
       "    <tr>\n",
       "      <th>116069</th>\n",
       "      <td>ZW</td>\n",
       "      <td>STH</td>\n",
       "      <td>1751S 03101E</td>\n",
       "      <td>ZWSTH</td>\n",
       "    </tr>\n",
       "    <tr>\n",
       "      <th>116070</th>\n",
       "      <td>ZW</td>\n",
       "      <td>THJ</td>\n",
       "      <td>1800S 02626E</td>\n",
       "      <td>ZWTHJ</td>\n",
       "    </tr>\n",
       "    <tr>\n",
       "      <th>116071</th>\n",
       "      <td>ZW</td>\n",
       "      <td>VFA</td>\n",
       "      <td>NaN</td>\n",
       "      <td>ZWVFA</td>\n",
       "    </tr>\n",
       "    <tr>\n",
       "      <th>116072</th>\n",
       "      <td>ZW</td>\n",
       "      <td>ZMZ</td>\n",
       "      <td>2016S 03055E</td>\n",
       "      <td>ZWZMZ</td>\n",
       "    </tr>\n",
       "    <tr>\n",
       "      <th>116073</th>\n",
       "      <td>ZW</td>\n",
       "      <td>ZVS</td>\n",
       "      <td>2020S 03002E</td>\n",
       "      <td>ZWZVS</td>\n",
       "    </tr>\n",
       "  </tbody>\n",
       "</table>\n",
       "<p>115882 rows × 4 columns</p>\n",
       "</div>"
      ],
      "text/plain": [
       "       Country Location   Coordinates place.unlocode\n",
       "0           AD      ALV  4230N 00131E          ADALV\n",
       "1           AD      CAN  4234N 00135E          ADCAN\n",
       "2           AD      ENC  4232N 00134E          ADENC\n",
       "3           AD      ESC  4231N 00133E          ADESC\n",
       "4           AD      EAC  4233N 00131E          ADEAC\n",
       "...        ...      ...           ...            ...\n",
       "116069      ZW      STH  1751S 03101E          ZWSTH\n",
       "116070      ZW      THJ  1800S 02626E          ZWTHJ\n",
       "116071      ZW      VFA           NaN          ZWVFA\n",
       "116072      ZW      ZMZ  2016S 03055E          ZWZMZ\n",
       "116073      ZW      ZVS  2020S 03002E          ZWZVS\n",
       "\n",
       "[115882 rows x 4 columns]"
      ]
     },
     "execution_count": 151,
     "metadata": {},
     "output_type": "execute_result"
    }
   ],
   "source": [
    "code_df.drop_duplicates(subset=['place.unlocode'])"
   ]
  },
  {
   "cell_type": "code",
   "execution_count": 152,
   "metadata": {},
   "outputs": [
    {
     "data": {
      "text/html": [
       "<div>\n",
       "<style scoped>\n",
       "    .dataframe tbody tr th:only-of-type {\n",
       "        vertical-align: middle;\n",
       "    }\n",
       "\n",
       "    .dataframe tbody tr th {\n",
       "        vertical-align: top;\n",
       "    }\n",
       "\n",
       "    .dataframe thead th {\n",
       "        text-align: right;\n",
       "    }\n",
       "</style>\n",
       "<table border=\"1\" class=\"dataframe\">\n",
       "  <thead>\n",
       "    <tr style=\"text-align: right;\">\n",
       "      <th></th>\n",
       "      <th>Country</th>\n",
       "      <th>Location</th>\n",
       "      <th>Coordinates</th>\n",
       "      <th>place.unlocode</th>\n",
       "    </tr>\n",
       "  </thead>\n",
       "  <tbody>\n",
       "    <tr>\n",
       "      <th>0</th>\n",
       "      <td>AD</td>\n",
       "      <td>ALV</td>\n",
       "      <td>4230N 00131E</td>\n",
       "      <td>ADALV</td>\n",
       "    </tr>\n",
       "    <tr>\n",
       "      <th>1</th>\n",
       "      <td>AD</td>\n",
       "      <td>CAN</td>\n",
       "      <td>4234N 00135E</td>\n",
       "      <td>ADCAN</td>\n",
       "    </tr>\n",
       "    <tr>\n",
       "      <th>2</th>\n",
       "      <td>AD</td>\n",
       "      <td>ENC</td>\n",
       "      <td>4232N 00134E</td>\n",
       "      <td>ADENC</td>\n",
       "    </tr>\n",
       "    <tr>\n",
       "      <th>3</th>\n",
       "      <td>AD</td>\n",
       "      <td>ESC</td>\n",
       "      <td>4231N 00133E</td>\n",
       "      <td>ADESC</td>\n",
       "    </tr>\n",
       "    <tr>\n",
       "      <th>4</th>\n",
       "      <td>AD</td>\n",
       "      <td>EAC</td>\n",
       "      <td>4233N 00131E</td>\n",
       "      <td>ADEAC</td>\n",
       "    </tr>\n",
       "    <tr>\n",
       "      <th>...</th>\n",
       "      <td>...</td>\n",
       "      <td>...</td>\n",
       "      <td>...</td>\n",
       "      <td>...</td>\n",
       "    </tr>\n",
       "    <tr>\n",
       "      <th>116069</th>\n",
       "      <td>ZW</td>\n",
       "      <td>STH</td>\n",
       "      <td>1751S 03101E</td>\n",
       "      <td>ZWSTH</td>\n",
       "    </tr>\n",
       "    <tr>\n",
       "      <th>116070</th>\n",
       "      <td>ZW</td>\n",
       "      <td>THJ</td>\n",
       "      <td>1800S 02626E</td>\n",
       "      <td>ZWTHJ</td>\n",
       "    </tr>\n",
       "    <tr>\n",
       "      <th>116071</th>\n",
       "      <td>ZW</td>\n",
       "      <td>VFA</td>\n",
       "      <td>NaN</td>\n",
       "      <td>ZWVFA</td>\n",
       "    </tr>\n",
       "    <tr>\n",
       "      <th>116072</th>\n",
       "      <td>ZW</td>\n",
       "      <td>ZMZ</td>\n",
       "      <td>2016S 03055E</td>\n",
       "      <td>ZWZMZ</td>\n",
       "    </tr>\n",
       "    <tr>\n",
       "      <th>116073</th>\n",
       "      <td>ZW</td>\n",
       "      <td>ZVS</td>\n",
       "      <td>2020S 03002E</td>\n",
       "      <td>ZWZVS</td>\n",
       "    </tr>\n",
       "  </tbody>\n",
       "</table>\n",
       "<p>116027 rows × 4 columns</p>\n",
       "</div>"
      ],
      "text/plain": [
       "       Country Location   Coordinates place.unlocode\n",
       "0           AD      ALV  4230N 00131E          ADALV\n",
       "1           AD      CAN  4234N 00135E          ADCAN\n",
       "2           AD      ENC  4232N 00134E          ADENC\n",
       "3           AD      ESC  4231N 00133E          ADESC\n",
       "4           AD      EAC  4233N 00131E          ADEAC\n",
       "...        ...      ...           ...            ...\n",
       "116069      ZW      STH  1751S 03101E          ZWSTH\n",
       "116070      ZW      THJ  1800S 02626E          ZWTHJ\n",
       "116071      ZW      VFA           NaN          ZWVFA\n",
       "116072      ZW      ZMZ  2016S 03055E          ZWZMZ\n",
       "116073      ZW      ZVS  2020S 03002E          ZWZVS\n",
       "\n",
       "[116027 rows x 4 columns]"
      ]
     },
     "execution_count": 152,
     "metadata": {},
     "output_type": "execute_result"
    }
   ],
   "source": [
    "df.dropna(subset=['place.unlocode'])\n",
    "code_df.dropna(subset=['place.unlocode'])"
   ]
  },
  {
   "cell_type": "code",
   "execution_count": 169,
   "metadata": {},
   "outputs": [],
   "source": [
    "merged_df = df.merge(code_df, on='place.unlocode')\n",
    "# merged_df"
   ]
  },
  {
   "cell_type": "code",
   "execution_count": 170,
   "metadata": {},
   "outputs": [],
   "source": [
    "morning_champ_df = merged_df[merged_df['IMO'] == 9285627]\n",
    "glovis_sonic_df =  merged_df[merged_df['IMO'] == 9798387]"
   ]
  },
  {
   "cell_type": "code",
   "execution_count": 171,
   "metadata": {},
   "outputs": [
    {
     "data": {
      "text/plain": [
       "(array([], dtype=object), array([], dtype=object))"
      ]
     },
     "execution_count": 171,
     "metadata": {},
     "output_type": "execute_result"
    }
   ],
   "source": [
    "# visualize morning_champ_df\n",
    "# convert coordinates\n",
    "morning_champ_df[morning_champ_df['Coordinates'].isnull()]['place.placeName'].unique(), morning_champ_df[morning_champ_df['Coordinates'].isnull()]['place.unlocode'].unique()"
   ]
  },
  {
   "cell_type": "code",
   "execution_count": 172,
   "metadata": {},
   "outputs": [],
   "source": [
    "# convert coordinates - seperate them into lat and log\n",
    "morning_champ_df['lat'] = morning_champ_df['Coordinates'].apply(lambda x: x.split(' ')[0] if x else None)\n",
    "morning_champ_df['lon'] = morning_champ_df['Coordinates'].apply(lambda x: x.split(' ')[1] if x  else None)\n",
    "# # convert coordinates - read direction\n",
    "morning_champ_df['lat'] = morning_champ_df['lat'].apply(lambda x: '-' + x[:-1] if x[-1:] == 'S' else x[:-1])\n",
    "morning_champ_df['lon'] = morning_champ_df['lon'].apply(lambda x: '-' + x[:-1] if x[-1:] == 'W' else x[:-1])\n",
    "# morning_champ_df"
   ]
  },
  {
   "cell_type": "code",
   "execution_count": 173,
   "metadata": {},
   "outputs": [],
   "source": [
    "# convert to float with the last two digits being decimal points\n",
    "def handle_lat_lon(x):\n",
    "    if x:\n",
    "        if '-' in x:\n",
    "            return float(x[:-2]) + float(x[0] + x[-2:])/100\n",
    "        else:\n",
    "            return float(x[:-2]) + float(x[-2:])/100\n",
    "    return None\n",
    "\n",
    "\n",
    "morning_champ_df['lat'] = morning_champ_df['lat'].apply(lambda x: handle_lat_lon(x))\n",
    "morning_champ_df['lon'] = morning_champ_df['lon'].apply(lambda x: handle_lat_lon(x))\n",
    "# print(morning_champ_df.to_string())"
   ]
  },
  {
   "cell_type": "code",
   "execution_count": 229,
   "metadata": {},
   "outputs": [],
   "source": [
    "morning_champ_df = morning_champ_df.reset_index(drop=True)\n",
    "morning_champ_df = morning_champ_df.sort_values(by='Timestamp')"
   ]
  },
  {
   "cell_type": "code",
   "execution_count": 232,
   "metadata": {},
   "outputs": [],
   "source": [
    "from shapely.geometry import LineString, Point  # Import Point for arrow head (optional)\n",
    "import matplotlib.pyplot as plt\n",
    "from matplotlib import patches  # For creating arrow patches\n",
    "import numpy as np"
   ]
  },
  {
   "cell_type": "code",
   "execution_count": 237,
   "metadata": {},
   "outputs": [
    {
     "name": "stderr",
     "output_type": "stream",
     "text": [
      "C:\\Users\\SyeAli\\AppData\\Local\\Temp\\ipykernel_22044\\2070837493.py:13: FutureWarning: The geopandas.dataset module is deprecated and will be removed in GeoPandas 1.0. You can get the original 'naturalearth_lowres' data from https://www.naturalearthdata.com/downloads/110m-cultural-vectors/.\n",
      "  world = geopandas.read_file(geopandas.datasets.get_path('naturalearth_lowres'))\n"
     ]
    },
    {
     "data": {
      "image/png": "[encoded data removed]",
      "text/plain": [
       "<Figure size 640x480 with 1 Axes>"
      ]
     },
     "metadata": {},
     "output_type": "display_data"
    }
   ],
   "source": [
    "# lines = []\n",
    "# for i in range(len(morning_champ_df) - 1):\n",
    "#   start_point = (morning_champ_df.loc[i, 'lon'], morning_champ_df.loc[i, 'lat'])\n",
    "#   end_point = (morning_champ_df.loc[i + 1, 'lon'], morning_champ_df.loc[i + 1, 'lat'])\n",
    "#   line = LineString([start_point, end_point])\n",
    "\n",
    "#   lines.append(line)\n",
    "\n",
    "# # print(lines)\n",
    "# gdf_lines = geopandas.GeoDataFrame({'geometry': lines})\n",
    "\n",
    "# Plotting (adjust world and styles as needed)\n",
    "world = geopandas.read_file(geopandas.datasets.get_path('naturalearth_lowres'))\n",
    "ax = world.boundary.plot()\n",
    "# gdf_lines.plot(ax=ax, color='darkblue', linewidth=2, linestyle='--')  # Line color and width\n",
    "\n",
    "\n",
    "# Plot ship positions at ports (adjust marker and color)\n",
    "gdf_morning_champ = geopandas.GeoDataFrame(morning_champ_df, geometry=geopandas.points_from_xy(morning_champ_df.lon, morning_champ_df.lat))\n",
    "gdf_morning_champ.plot(ax=ax, marker='o', color='red', markersize=10)  # Marker style, color, and size\n",
    "# Title and display\n",
    "plt.title(\"Ship Movement from \" + morning_champ_df.iloc[0]['place.placeName'] + \n",
    "          \" to \" + morning_champ_df.iloc[-1]['place.placeName'])\n",
    "plt.show()"
   ]
  }
 ],
 "metadata": {
  "kernelspec": {
   "display_name": "ais_env",
   "language": "python",
   "name": "python3"
  },
  "language_info": {
   "codemirror_mode": {
    "name": "ipython",
    "version": 3
   },
   "file_extension": ".py",
   "mimetype": "text/x-python",
   "name": "python",
   "nbconvert_exporter": "python",
   "pygments_lexer": "ipython3",
   "version": "3.12.2"
  }
 },
 "nbformat": 4,
 "nbformat_minor": 2
}
